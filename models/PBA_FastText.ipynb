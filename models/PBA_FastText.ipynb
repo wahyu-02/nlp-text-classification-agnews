{
 "cells": [
  {
   "cell_type": "markdown",
   "metadata": {
    "id": "zUaOO07NiiD2"
   },
   "source": [
    "# **TUGAS PBA TERAKHIR FastText**\n"
   ]
  },
  {
   "cell_type": "markdown",
   "metadata": {
    "id": "3djC0D5B050v"
   },
   "source": [
    "## **Running sekali**"
   ]
  },
  {
   "cell_type": "code",
   "execution_count": 30,
   "metadata": {
    "colab": {
     "base_uri": "https://localhost:8080/"
    },
    "id": "urA50CJ2z8r2",
    "outputId": "e6e7b213-05b4-489f-b346-94e1f85283e5"
   },
   "outputs": [
    {
     "name": "stdout",
     "output_type": "stream",
     "text": [
      "Collecting torchinfo\n",
      "  Downloading torchinfo-1.8.0-py3-none-any.whl.metadata (21 kB)\n",
      "Downloading torchinfo-1.8.0-py3-none-any.whl (23 kB)\n",
      "Installing collected packages: torchinfo\n",
      "Successfully installed torchinfo-1.8.0\n"
     ]
    }
   ],
   "source": [
    "!pip install torchinfo"
   ]
  },
  {
   "cell_type": "code",
   "execution_count": 31,
   "metadata": {
    "id": "ejTNOyzbimMM"
   },
   "outputs": [],
   "source": [
    "import pandas as pd\n",
    "import numpy as np\n",
    "import torch\n",
    "import time\n",
    "from torch.utils.data import Dataset, DataLoader\n",
    "from torch import nn\n",
    "from sklearn.preprocessing import LabelEncoder\n",
    "from sklearn.metrics import accuracy_score\n",
    "from torchinfo import summary"
   ]
  },
  {
   "cell_type": "code",
   "execution_count": 9,
   "metadata": {
    "colab": {
     "base_uri": "https://localhost:8080/"
    },
    "id": "f9TBvMuQitlp",
    "outputId": "0079ac87-9385-49ce-e1c6-40fa4a530bf6"
   },
   "outputs": [
    {
     "name": "stdout",
     "output_type": "stream",
     "text": [
      "Device yang digunakan: cuda\n"
     ]
    }
   ],
   "source": [
    "# Cek device\n",
    "DEVICE = torch.device(\"cuda\" if torch.cuda.is_available() else \"cpu\")\n",
    "print(f\"Device yang digunakan: {DEVICE}\")"
   ]
  },
  {
   "cell_type": "code",
   "execution_count": 23,
   "metadata": {
    "colab": {
     "base_uri": "https://localhost:8080/"
    },
    "id": "K9i2hH7aipe5",
    "outputId": "66bda70c-1674-4aa6-a7f6-dfc2b059c5b8"
   },
   "outputs": [
    {
     "name": "stdout",
     "output_type": "stream",
     "text": [
      "Memuat GloVe embeddings...\n",
      "Skipping word 241.5 due to dimension mismatch: expected 100, got 76\n",
      "GloVe embeddings telah berhasil dimuat!\n",
      "Ukuran Embedding matrix: torch.Size([254745, 100])\n"
     ]
    }
   ],
   "source": [
    "# Path Dataset\n",
    "TRAIN_PATH = \"train.csv\"\n",
    "TEST_PATH = \"test.csv\"\n",
    "GLOVE_PATH = \"/content/glove.6B.100d.txt\"  # Sesuaikan path Anda\n",
    "EMBEDDING_DIM = 100\n",
    "\n",
    "# Load Dataset\n",
    "train_df = pd.read_csv(TRAIN_PATH, header=None, names=[\"class\", \"title\", \"description\"])\n",
    "test_df = pd.read_csv(TEST_PATH, header=None, names=[\"class\", \"title\", \"description\"])\n",
    "\n",
    "# Gabungkan title dan description\n",
    "train_df[\"text\"] = train_df[\"title\"].fillna(\"\") + \". \" + train_df[\"description\"].fillna(\"\")\n",
    "test_df[\"text\"] = test_df[\"title\"].fillna(\"\") + \". \" + test_df[\"description\"].fillna(\"\")\n",
    "\n",
    "# Encode label\n",
    "label_encoder = LabelEncoder()\n",
    "train_df[\"label\"] = label_encoder.fit_transform(train_df[\"class\"])\n",
    "test_df[\"label\"] = label_encoder.transform(test_df[\"class\"])\n",
    "\n",
    "# Load GloVe pre-trained embeddings\n",
    "def load_glove_embeddings(glove_path, embedding_dim):\n",
    "    word_to_idx = {\"<PAD>\": 0, \"<UNK>\": 1}\n",
    "    embedding_matrix = [np.zeros(embedding_dim), np.random.uniform(-0.25, 0.25, embedding_dim)]\n",
    "\n",
    "    print(\"Memuat GloVe embeddings...\")\n",
    "    with open(glove_path, \"r\", encoding=\"utf-8\") as f:\n",
    "        for line in f:\n",
    "            parts = line.split()\n",
    "            word = parts[0]\n",
    "            vector = np.array(parts[1:], dtype=np.float32)\n",
    "\n",
    "            # Validasi dimensi embedding\n",
    "            if vector.shape[0] != embedding_dim:\n",
    "                print(f\"Skipping word {word} due to dimension mismatch: expected {embedding_dim}, got {vector.shape[0]}\")\n",
    "                continue\n",
    "\n",
    "            word_to_idx[word] = len(word_to_idx)\n",
    "            embedding_matrix.append(vector)\n",
    "\n",
    "    embedding_matrix = np.array(embedding_matrix)\n",
    "    print(\"GloVe embeddings telah berhasil dimuat!\")\n",
    "    return word_to_idx, torch.tensor(embedding_matrix, dtype=torch.float)\n",
    "\n",
    "word_to_idx, embedding_matrix = load_glove_embeddings(GLOVE_PATH, EMBEDDING_DIM)\n",
    "print(\"Ukuran Embedding matrix:\", embedding_matrix.shape)"
   ]
  },
  {
   "cell_type": "code",
   "execution_count": 24,
   "metadata": {
    "id": "UqlgS-Q2i3a2"
   },
   "outputs": [],
   "source": [
    "# Dataset\n",
    "class FastTextDataset(Dataset):\n",
    "    def __init__(self, texts, labels, word_to_idx, max_len):\n",
    "        self.texts = texts\n",
    "        self.labels = labels\n",
    "        self.word_to_idx = word_to_idx\n",
    "        self.max_len = max_len\n",
    "\n",
    "    def __len__(self):\n",
    "        return len(self.texts)\n",
    "\n",
    "    def __getitem__(self, idx):\n",
    "        text = self.texts[idx]\n",
    "        label = self.labels[idx]\n",
    "\n",
    "        tokens = text.split()\n",
    "        token_ids = [self.word_to_idx.get(token, 1) for token in tokens]  # 1 = \"<UNK>\"\n",
    "        if len(token_ids) < self.max_len:\n",
    "            token_ids += [0] * (self.max_len - len(token_ids))  # 0 = \"<PAD>\"\n",
    "        else:\n",
    "            token_ids = token_ids[:self.max_len]\n",
    "\n",
    "        return {\n",
    "            \"input_ids\": torch.tensor(token_ids, dtype=torch.long),\n",
    "            \"label\": torch.tensor(label, dtype=torch.long)\n",
    "        }\n",
    "\n",
    "# Dataset dan DataLoader\n",
    "MAX_LEN = 100\n",
    "train_dataset = FastTextDataset(train_df[\"text\"].values, train_df[\"label\"].values, word_to_idx, MAX_LEN)\n",
    "test_dataset = FastTextDataset(test_df[\"text\"].values, test_df[\"label\"].values, word_to_idx, MAX_LEN)\n",
    "\n",
    "train_loader = DataLoader(train_dataset, batch_size=32, shuffle=True)\n",
    "test_loader = DataLoader(test_dataset, batch_size=32)"
   ]
  },
  {
   "cell_type": "code",
   "execution_count": 25,
   "metadata": {
    "id": "QA21Cbtgi6Nd"
   },
   "outputs": [],
   "source": [
    "# Model\n",
    "class FastTextClassifier(nn.Module):\n",
    "    def __init__(self, embedding_matrix, hidden_size, n_classes):\n",
    "        super(FastTextClassifier, self).__init__()\n",
    "        self.embedding = nn.Embedding.from_pretrained(embedding_matrix, freeze=True)\n",
    "        self.fc1 = nn.Linear(EMBEDDING_DIM, hidden_size)\n",
    "        self.fc2 = nn.Linear(hidden_size, n_classes)\n",
    "        self.dropout = nn.Dropout(0.5)\n",
    "\n",
    "    def forward(self, input_ids):\n",
    "        embeddings = self.embedding(input_ids)\n",
    "        pooled = embeddings.mean(dim=1)  # Mean pooling\n",
    "        hidden = torch.relu(self.fc1(pooled))\n",
    "        hidden = self.dropout(hidden)\n",
    "        return self.fc2(hidden)\n",
    "\n",
    "# Inisialisasi Model\n",
    "model = FastTextClassifier(\n",
    "    embedding_matrix=embedding_matrix,\n",
    "    hidden_size=128,\n",
    "    n_classes=len(label_encoder.classes_)\n",
    ").to(DEVICE)\n",
    "\n",
    "# Optimizer dan Loss\n",
    "optimizer = torch.optim.Adam(model.parameters(), lr=1e-4)\n",
    "criterion = nn.CrossEntropyLoss()\n",
    "\n",
    "# Training Function\n",
    "def train_epoch(model, data_loader, optimizer, criterion):\n",
    "    model.train()\n",
    "    total_loss = 0\n",
    "    for batch in data_loader:\n",
    "        input_ids = batch[\"input_ids\"].to(DEVICE)\n",
    "        labels = batch[\"label\"].to(DEVICE)\n",
    "\n",
    "        optimizer.zero_grad()\n",
    "        outputs = model(input_ids)\n",
    "        loss = criterion(outputs, labels)\n",
    "        loss.backward()\n",
    "        optimizer.step()\n",
    "        total_loss += loss.item()\n",
    "    return total_loss / len(data_loader)"
   ]
  },
  {
   "cell_type": "code",
   "execution_count": 32,
   "metadata": {
    "colab": {
     "base_uri": "https://localhost:8080/"
    },
    "id": "xKetLdbHr0eD",
    "outputId": "4a1e7f24-5527-49f0-aaa8-3791e10c8093"
   },
   "outputs": [
    {
     "data": {
      "text/plain": [
       "=================================================================\n",
       "Layer (type:depth-idx)                   Param #\n",
       "=================================================================\n",
       "FastTextClassifier                       --\n",
       "├─Embedding: 1-1                         (25,474,500)\n",
       "├─Linear: 1-2                            12,928\n",
       "├─Linear: 1-3                            516\n",
       "├─Dropout: 1-4                           --\n",
       "=================================================================\n",
       "Total params: 25,487,944\n",
       "Trainable params: 13,444\n",
       "Non-trainable params: 25,474,500\n",
       "================================================================="
      ]
     },
     "execution_count": 32,
     "metadata": {},
     "output_type": "execute_result"
    }
   ],
   "source": [
    "summary(model)"
   ]
  },
  {
   "cell_type": "code",
   "execution_count": 33,
   "metadata": {
    "id": "xt96XdfSo8_H"
   },
   "outputs": [],
   "source": [
    "# Evaluasi\n",
    "def evaluate(model, data_loader):\n",
    "    model.eval()\n",
    "    predictions, true_labels = [], []\n",
    "    with torch.no_grad():\n",
    "        for batch in data_loader:\n",
    "            input_ids = batch[\"input_ids\"].to(DEVICE)\n",
    "            labels = batch[\"label\"].to(DEVICE)\n",
    "\n",
    "            outputs = model(input_ids)\n",
    "            preds = torch.argmax(outputs, dim=1)\n",
    "            predictions.extend(preds.cpu().numpy())\n",
    "            true_labels.extend(labels.cpu().numpy())\n",
    "    return accuracy_score(true_labels, predictions)"
   ]
  },
  {
   "cell_type": "code",
   "execution_count": 34,
   "metadata": {
    "colab": {
     "base_uri": "https://localhost:8080/"
    },
    "id": "nG9sYZ4spAPe",
    "outputId": "4228d209-81ab-476d-f5b9-d0f43cd508ce"
   },
   "outputs": [
    {
     "name": "stdout",
     "output_type": "stream",
     "text": [
      "Epoch 1: Train Loss: 1.0096, Test Accuracy: 0.7825, Durasi: 13.62 detik\n",
      "Epoch 2: Train Loss: 0.6475, Test Accuracy: 0.7993, Durasi: 12.44 detik\n",
      "Epoch 3: Train Loss: 0.5822, Test Accuracy: 0.8076, Durasi: 13.87 detik\n"
     ]
    }
   ],
   "source": [
    "# Train Model\n",
    "EPOCHS = 3\n",
    "\n",
    "for epoch in range(EPOCHS):\n",
    "    start_time = time.time()\n",
    "    train_loss = train_epoch(model, train_loader, optimizer, criterion)\n",
    "    acc = evaluate(model, test_loader)\n",
    "    end_time = time.time()\n",
    "    epoch_duration = end_time - start_time\n",
    "    print(f\"Epoch {epoch+1}: Train Loss: {train_loss:.4f}, Test Accuracy: {acc:.4f}, Durasi: {epoch_duration:.2f} detik\")\n"
   ]
  },
  {
   "cell_type": "code",
   "execution_count": 35,
   "metadata": {
    "colab": {
     "base_uri": "https://localhost:8080/"
    },
    "id": "-ngBd2pOpDEb",
    "outputId": "bde05f09-fae6-4b09-9b58-48e6c2ebf94f"
   },
   "outputs": [
    {
     "name": "stdout",
     "output_type": "stream",
     "text": [
      "Model berhasil disimpan!\n"
     ]
    }
   ],
   "source": [
    "# Save Model\n",
    "torch.save(model.state_dict(), \"fasttext_glove_model.pth\")\n",
    "print(\"Model berhasil disimpan!\")"
   ]
  },
  {
   "cell_type": "markdown",
   "metadata": {
    "id": "nYzt5vTX0-71"
   },
   "source": [
    "## **Running 2 kali**"
   ]
  },
  {
   "cell_type": "code",
   "execution_count": null,
   "metadata": {
    "colab": {
     "base_uri": "https://localhost:8080/"
    },
    "id": "hmpO5rKM1Ble",
    "outputId": "e6e7b213-05b4-489f-b346-94e1f85283e5"
   },
   "outputs": [
    {
     "name": "stdout",
     "output_type": "stream",
     "text": [
      "Collecting torchinfo\n",
      "  Downloading torchinfo-1.8.0-py3-none-any.whl.metadata (21 kB)\n",
      "Downloading torchinfo-1.8.0-py3-none-any.whl (23 kB)\n",
      "Installing collected packages: torchinfo\n",
      "Successfully installed torchinfo-1.8.0\n"
     ]
    }
   ],
   "source": [
    "!pip install torchinfo"
   ]
  },
  {
   "cell_type": "code",
   "execution_count": 48,
   "metadata": {
    "id": "zhRKVXmH1Ble"
   },
   "outputs": [],
   "source": [
    "import pandas as pd\n",
    "import numpy as np\n",
    "import torch\n",
    "import time\n",
    "from torch.utils.data import Dataset, DataLoader\n",
    "from torch import nn\n",
    "from sklearn.preprocessing import LabelEncoder\n",
    "from sklearn.metrics import accuracy_score\n",
    "from torchinfo import summary\n",
    "import matplotlib.pyplot as plt\n",
    "from sklearn.metrics import confusion_matrix, classification_report\n",
    "import seaborn as sns"
   ]
  },
  {
   "cell_type": "code",
   "execution_count": 37,
   "metadata": {
    "colab": {
     "base_uri": "https://localhost:8080/"
    },
    "id": "_ZuJV_So1Ble",
    "outputId": "6a279540-d391-47d8-c961-61683035132e"
   },
   "outputs": [
    {
     "name": "stdout",
     "output_type": "stream",
     "text": [
      "Device yang digunakan: cuda\n"
     ]
    }
   ],
   "source": [
    "# Cek device\n",
    "DEVICE = torch.device(\"cuda\" if torch.cuda.is_available() else \"cpu\")\n",
    "print(f\"Device yang digunakan: {DEVICE}\")"
   ]
  },
  {
   "cell_type": "code",
   "execution_count": 38,
   "metadata": {
    "colab": {
     "base_uri": "https://localhost:8080/"
    },
    "id": "f_ii74cq1Blf",
    "outputId": "60b07ef7-f08c-4ca9-8eff-204277c13547"
   },
   "outputs": [
    {
     "name": "stdout",
     "output_type": "stream",
     "text": [
      "Memuat GloVe embeddings...\n",
      "Skipping word 241.5 due to dimension mismatch: expected 100, got 76\n",
      "GloVe embeddings telah berhasil dimuat!\n",
      "Ukuran Embedding matrix: torch.Size([254745, 100])\n"
     ]
    }
   ],
   "source": [
    "# Path Dataset\n",
    "TRAIN_PATH = \"train.csv\"\n",
    "TEST_PATH = \"test.csv\"\n",
    "GLOVE_PATH = \"/content/glove.6B.100d.txt\"  # Sesuaikan path Anda\n",
    "EMBEDDING_DIM = 100\n",
    "\n",
    "# Load Dataset\n",
    "train_df = pd.read_csv(TRAIN_PATH, header=None, names=[\"class\", \"title\", \"description\"])\n",
    "test_df = pd.read_csv(TEST_PATH, header=None, names=[\"class\", \"title\", \"description\"])\n",
    "\n",
    "# Gabungkan title dan description\n",
    "train_df[\"text\"] = train_df[\"title\"].fillna(\"\") + \". \" + train_df[\"description\"].fillna(\"\")\n",
    "test_df[\"text\"] = test_df[\"title\"].fillna(\"\") + \". \" + test_df[\"description\"].fillna(\"\")\n",
    "\n",
    "# Encode label\n",
    "label_encoder = LabelEncoder()\n",
    "train_df[\"label\"] = label_encoder.fit_transform(train_df[\"class\"])\n",
    "test_df[\"label\"] = label_encoder.transform(test_df[\"class\"])\n",
    "\n",
    "# Load GloVe pre-trained embeddings\n",
    "def load_glove_embeddings(glove_path, embedding_dim):\n",
    "    word_to_idx = {\"<PAD>\": 0, \"<UNK>\": 1}\n",
    "    embedding_matrix = [np.zeros(embedding_dim), np.random.uniform(-0.25, 0.25, embedding_dim)]\n",
    "\n",
    "    print(\"Memuat GloVe embeddings...\")\n",
    "    with open(glove_path, \"r\", encoding=\"utf-8\") as f:\n",
    "        for line in f:\n",
    "            parts = line.split()\n",
    "            word = parts[0]\n",
    "            vector = np.array(parts[1:], dtype=np.float32)\n",
    "\n",
    "            # Validasi dimensi embedding\n",
    "            if vector.shape[0] != embedding_dim:\n",
    "                print(f\"Skipping word {word} due to dimension mismatch: expected {embedding_dim}, got {vector.shape[0]}\")\n",
    "                continue\n",
    "\n",
    "            word_to_idx[word] = len(word_to_idx)\n",
    "            embedding_matrix.append(vector)\n",
    "\n",
    "    embedding_matrix = np.array(embedding_matrix)\n",
    "    print(\"GloVe embeddings telah berhasil dimuat!\")\n",
    "    return word_to_idx, torch.tensor(embedding_matrix, dtype=torch.float)\n",
    "\n",
    "word_to_idx, embedding_matrix = load_glove_embeddings(GLOVE_PATH, EMBEDDING_DIM)\n",
    "print(\"Ukuran Embedding matrix:\", embedding_matrix.shape)"
   ]
  },
  {
   "cell_type": "code",
   "execution_count": 39,
   "metadata": {
    "id": "bwNTQjTj1Blf"
   },
   "outputs": [],
   "source": [
    "# Dataset\n",
    "class FastTextDataset(Dataset):\n",
    "    def __init__(self, texts, labels, word_to_idx, max_len):\n",
    "        self.texts = texts\n",
    "        self.labels = labels\n",
    "        self.word_to_idx = word_to_idx\n",
    "        self.max_len = max_len\n",
    "\n",
    "    def __len__(self):\n",
    "        return len(self.texts)\n",
    "\n",
    "    def __getitem__(self, idx):\n",
    "        text = self.texts[idx]\n",
    "        label = self.labels[idx]\n",
    "\n",
    "        tokens = text.split()\n",
    "        token_ids = [self.word_to_idx.get(token, 1) for token in tokens]  # 1 = \"<UNK>\"\n",
    "        if len(token_ids) < self.max_len:\n",
    "            token_ids += [0] * (self.max_len - len(token_ids))  # 0 = \"<PAD>\"\n",
    "        else:\n",
    "            token_ids = token_ids[:self.max_len]\n",
    "\n",
    "        return {\n",
    "            \"input_ids\": torch.tensor(token_ids, dtype=torch.long),\n",
    "            \"label\": torch.tensor(label, dtype=torch.long)\n",
    "        }\n",
    "\n",
    "# Dataset dan DataLoader\n",
    "MAX_LEN = 100\n",
    "train_dataset = FastTextDataset(train_df[\"text\"].values, train_df[\"label\"].values, word_to_idx, MAX_LEN)\n",
    "test_dataset = FastTextDataset(test_df[\"text\"].values, test_df[\"label\"].values, word_to_idx, MAX_LEN)\n",
    "\n",
    "train_loader = DataLoader(train_dataset, batch_size=32, shuffle=True)\n",
    "test_loader = DataLoader(test_dataset, batch_size=32)"
   ]
  },
  {
   "cell_type": "code",
   "execution_count": 40,
   "metadata": {
    "colab": {
     "base_uri": "https://localhost:8080/",
     "height": 507
    },
    "id": "YNvHlSRP204y",
    "outputId": "994d4427-c147-4d3e-adb4-5f652f6d54de"
   },
   "outputs": [
    {
     "data": {
      "image/png": "[encoded data removed]",
      "text/plain": [
       "<Figure size 640x480 with 1 Axes>"
      ]
     },
     "metadata": {},
     "output_type": "display_data"
    },
    {
     "name": "stdout",
     "output_type": "stream",
     "text": [
      "Rata-rata panjang teks Train: 37.85, Max: 177\n",
      "Rata-rata panjang teks Test: 37.72, Max: 137\n"
     ]
    }
   ],
   "source": [
    "train_lengths = train_df[\"text\"].apply(lambda x: len(x.split()))\n",
    "test_lengths = test_df[\"text\"].apply(lambda x: len(x.split()))\n",
    "\n",
    "plt.hist(train_lengths, bins=30, alpha=0.7, label=\"Train\")\n",
    "plt.hist(test_lengths, bins=30, alpha=0.7, label=\"Test\", color='orange')\n",
    "plt.title(\"Distribusi Panjang Teks\")\n",
    "plt.xlabel(\"Jumlah Kata\")\n",
    "plt.ylabel(\"Frekuensi\")\n",
    "plt.legend()\n",
    "plt.show()\n",
    "\n",
    "print(f\"Rata-rata panjang teks Train: {train_lengths.mean():.2f}, Max: {train_lengths.max()}\")\n",
    "print(f\"Rata-rata panjang teks Test: {test_lengths.mean():.2f}, Max: {test_lengths.max()}\")"
   ]
  },
  {
   "cell_type": "code",
   "execution_count": 41,
   "metadata": {
    "colab": {
     "base_uri": "https://localhost:8080/",
     "height": 564
    },
    "id": "l1f6Olww2xr_",
    "outputId": "1f61c235-2423-41d0-fbad-0d1a5ca32a7f"
   },
   "outputs": [
    {
     "data": {
      "image/png": "[encoded data removed]",
      "text/plain": [
       "<Figure size 1200x600 with 1 Axes>"
      ]
     },
     "metadata": {},
     "output_type": "display_data"
    }
   ],
   "source": [
    "# Distribusi label\n",
    "train_label_counts = train_df[\"label\"].value_counts()\n",
    "test_label_counts = test_df[\"label\"].value_counts()\n",
    "\n",
    "# Visualisasi distribusi label\n",
    "plt.figure(figsize=(12, 6))\n",
    "plt.bar(train_label_counts.index, train_label_counts.values, alpha=0.7, label='Train')\n",
    "plt.bar(test_label_counts.index, test_label_counts.values, alpha=0.7, label='Test', color='orange')\n",
    "plt.title(\"Distribusi Label\")\n",
    "plt.xlabel(\"Label\")\n",
    "plt.ylabel(\"Jumlah\")\n",
    "plt.legend()\n",
    "plt.show()"
   ]
  },
  {
   "cell_type": "code",
   "execution_count": 42,
   "metadata": {
    "id": "4JLGqmgA1Blf"
   },
   "outputs": [],
   "source": [
    "# Model\n",
    "class FastTextClassifier(nn.Module):\n",
    "    def __init__(self, embedding_matrix, hidden_size, n_classes):\n",
    "        super(FastTextClassifier, self).__init__()\n",
    "        self.embedding = nn.Embedding.from_pretrained(embedding_matrix, freeze=True)\n",
    "        self.fc1 = nn.Linear(EMBEDDING_DIM, hidden_size)\n",
    "        self.fc2 = nn.Linear(hidden_size, n_classes)\n",
    "        self.dropout = nn.Dropout(0.5)\n",
    "\n",
    "    def forward(self, input_ids):\n",
    "        embeddings = self.embedding(input_ids)\n",
    "        pooled = embeddings.mean(dim=1)  # Mean pooling\n",
    "        hidden = torch.relu(self.fc1(pooled))\n",
    "        hidden = self.dropout(hidden)\n",
    "        return self.fc2(hidden)\n",
    "\n",
    "# Inisialisasi Model\n",
    "model = FastTextClassifier(\n",
    "    embedding_matrix=embedding_matrix,\n",
    "    hidden_size=128,\n",
    "    n_classes=len(label_encoder.classes_)\n",
    ").to(DEVICE)\n",
    "\n",
    "# Optimizer dan Loss\n",
    "optimizer = torch.optim.Adam(model.parameters(), lr=1e-4)\n",
    "criterion = nn.CrossEntropyLoss()\n",
    "\n",
    "# Training Function\n",
    "def train_epoch(model, data_loader, optimizer, criterion):\n",
    "    model.train()\n",
    "    total_loss = 0\n",
    "    for batch in data_loader:\n",
    "        input_ids = batch[\"input_ids\"].to(DEVICE)\n",
    "        labels = batch[\"label\"].to(DEVICE)\n",
    "\n",
    "        optimizer.zero_grad()\n",
    "        outputs = model(input_ids)\n",
    "        loss = criterion(outputs, labels)\n",
    "        loss.backward()\n",
    "        optimizer.step()\n",
    "        total_loss += loss.item()\n",
    "    return total_loss / len(data_loader)"
   ]
  },
  {
   "cell_type": "code",
   "execution_count": 43,
   "metadata": {
    "colab": {
     "base_uri": "https://localhost:8080/"
    },
    "id": "oT9iOamc1Blg",
    "outputId": "b733f7c1-b2c5-4486-e8b9-aa10795aa38d"
   },
   "outputs": [
    {
     "data": {
      "text/plain": [
       "=================================================================\n",
       "Layer (type:depth-idx)                   Param #\n",
       "=================================================================\n",
       "FastTextClassifier                       --\n",
       "├─Embedding: 1-1                         (25,474,500)\n",
       "├─Linear: 1-2                            12,928\n",
       "├─Linear: 1-3                            516\n",
       "├─Dropout: 1-4                           --\n",
       "=================================================================\n",
       "Total params: 25,487,944\n",
       "Trainable params: 13,444\n",
       "Non-trainable params: 25,474,500\n",
       "================================================================="
      ]
     },
     "execution_count": 43,
     "metadata": {},
     "output_type": "execute_result"
    }
   ],
   "source": [
    "summary(model)"
   ]
  },
  {
   "cell_type": "code",
   "execution_count": 44,
   "metadata": {
    "id": "wp7e3vr-1Blg"
   },
   "outputs": [],
   "source": [
    "# Evaluasi\n",
    "def evaluate(model, data_loader):\n",
    "    model.eval()\n",
    "    predictions, true_labels = [], []\n",
    "    with torch.no_grad():\n",
    "        for batch in data_loader:\n",
    "            input_ids = batch[\"input_ids\"].to(DEVICE)\n",
    "            labels = batch[\"label\"].to(DEVICE)\n",
    "\n",
    "            outputs = model(input_ids)\n",
    "            preds = torch.argmax(outputs, dim=1)\n",
    "            predictions.extend(preds.cpu().numpy())\n",
    "            true_labels.extend(labels.cpu().numpy())\n",
    "    return accuracy_score(true_labels, predictions)"
   ]
  },
  {
   "cell_type": "code",
   "execution_count": 45,
   "metadata": {
    "colab": {
     "base_uri": "https://localhost:8080/"
    },
    "id": "RI5PHJKW1Blg",
    "outputId": "2a58dea6-b53a-4540-ce6e-0008b0d77761"
   },
   "outputs": [
    {
     "name": "stdout",
     "output_type": "stream",
     "text": [
      "Epoch 1: Train Loss: 1.0360, Test Accuracy: 0.7750, Durasi: 12.07 detik\n",
      "Epoch 2: Train Loss: 0.6645, Test Accuracy: 0.7966, Durasi: 11.26 detik\n",
      "Epoch 3: Train Loss: 0.5927, Test Accuracy: 0.8051, Durasi: 11.26 detik\n",
      "Epoch 4: Train Loss: 0.5642, Test Accuracy: 0.8133, Durasi: 11.20 detik\n",
      "Epoch 5: Train Loss: 0.5453, Test Accuracy: 0.8166, Durasi: 10.08 detik\n",
      "Epoch 6: Train Loss: 0.5326, Test Accuracy: 0.8195, Durasi: 11.06 detik\n",
      "Epoch 7: Train Loss: 0.5227, Test Accuracy: 0.8241, Durasi: 11.22 detik\n",
      "Epoch 8: Train Loss: 0.5168, Test Accuracy: 0.8237, Durasi: 11.21 detik\n",
      "Epoch 9: Train Loss: 0.5103, Test Accuracy: 0.8270, Durasi: 10.45 detik\n",
      "Epoch 10: Train Loss: 0.5063, Test Accuracy: 0.8276, Durasi: 10.94 detik\n"
     ]
    }
   ],
   "source": [
    "# Train Model\n",
    "EPOCHS = 10\n",
    "\n",
    "for epoch in range(EPOCHS):\n",
    "    start_time = time.time()\n",
    "    train_loss = train_epoch(model, train_loader, optimizer, criterion)\n",
    "    acc = evaluate(model, test_loader)\n",
    "    end_time = time.time()\n",
    "    epoch_duration = end_time - start_time\n",
    "    print(f\"Epoch {epoch+1}: Train Loss: {train_loss:.4f}, Test Accuracy: {acc:.4f}, Durasi: {epoch_duration:.2f} detik\")\n"
   ]
  },
  {
   "cell_type": "code",
   "execution_count": 46,
   "metadata": {
    "colab": {
     "base_uri": "https://localhost:8080/"
    },
    "id": "z6W2JrLZ26ap",
    "outputId": "fb37db6f-d891-4801-83c3-a64c31040302"
   },
   "outputs": [
    {
     "name": "stdout",
     "output_type": "stream",
     "text": [
      "Memori yang digunakan GPU: 222.89 MB\n",
      "Memori yang tersedia GPU: 230.69 MB\n"
     ]
    }
   ],
   "source": [
    "if torch.cuda.is_available():\n",
    "    print(f\"Memori yang digunakan GPU: {torch.cuda.memory_allocated() / 1e6:.2f} MB\")\n",
    "    print(f\"Memori yang tersedia GPU: {torch.cuda.memory_reserved() / 1e6:.2f} MB\")\n"
   ]
  },
  {
   "cell_type": "code",
   "execution_count": 47,
   "metadata": {
    "colab": {
     "base_uri": "https://localhost:8080/"
    },
    "id": "7dfstp5p28Qq",
    "outputId": "81933038-0975-4011-c578-b590dd5452c3"
   },
   "outputs": [
    {
     "name": "stdout",
     "output_type": "stream",
     "text": [
      "Rata-rata waktu per batch (Train): 0.0015 detik\n",
      "Rata-rata waktu per batch (Test): 0.0013 detik\n"
     ]
    }
   ],
   "source": [
    "import time\n",
    "\n",
    "def time_batch_processing(data_loader, model, mode=\"train\"):\n",
    "    total_time = 0\n",
    "    for batch in data_loader:\n",
    "        start = time.time()\n",
    "        if mode == \"train\":\n",
    "            input_ids = batch[\"input_ids\"].to(DEVICE)\n",
    "            labels = batch[\"label\"].to(DEVICE)\n",
    "            optimizer.zero_grad()\n",
    "            outputs = model(input_ids)\n",
    "            loss = criterion(outputs, labels)\n",
    "            loss.backward()\n",
    "            optimizer.step()\n",
    "        elif mode == \"test\":\n",
    "            input_ids = batch[\"input_ids\"].to(DEVICE)\n",
    "            with torch.no_grad():\n",
    "                _ = model(input_ids)\n",
    "        end = time.time()\n",
    "        total_time += end - start\n",
    "    return total_time / len(data_loader)\n",
    "\n",
    "train_time_per_batch = time_batch_processing(train_loader, model, mode=\"train\")\n",
    "test_time_per_batch = time_batch_processing(test_loader, model, mode=\"test\")\n",
    "\n",
    "print(f\"Rata-rata waktu per batch (Train): {train_time_per_batch:.4f} detik\")\n",
    "print(f\"Rata-rata waktu per batch (Test): {test_time_per_batch:.4f} detik\")\n"
   ]
  },
  {
   "cell_type": "code",
   "execution_count": 51,
   "metadata": {
    "colab": {
     "base_uri": "https://localhost:8080/",
     "height": 755
    },
    "id": "vMedjAAr3B7A",
    "outputId": "21428208-5c52-49b9-f829-dc0f15120f03"
   },
   "outputs": [
    {
     "data": {
      "image/png": "[encoded data removed]",
      "text/plain": [
       "<Figure size 800x600 with 2 Axes>"
      ]
     },
     "metadata": {},
     "output_type": "display_data"
    },
    {
     "name": "stdout",
     "output_type": "stream",
     "text": [
      "              precision    recall  f1-score   support\n",
      "\n",
      "           1       0.87      0.82      0.84      1900\n",
      "           2       0.89      0.93      0.91      1900\n",
      "           3       0.79      0.80      0.79      1900\n",
      "           4       0.79      0.79      0.79      1900\n",
      "\n",
      "    accuracy                           0.83      7600\n",
      "   macro avg       0.83      0.83      0.83      7600\n",
      "weighted avg       0.83      0.83      0.83      7600\n",
      "\n"
     ]
    }
   ],
   "source": [
    "true_labels, pred_labels = [], []\n",
    "\n",
    "# Mengumpulkan label sebenarnya dan prediksi\n",
    "for batch in test_loader:\n",
    "    input_ids = batch[\"input_ids\"].to(DEVICE)\n",
    "    labels = batch[\"label\"].to(DEVICE)\n",
    "    with torch.no_grad():\n",
    "        outputs = model(input_ids)\n",
    "        preds = torch.argmax(outputs, dim=1)\n",
    "    true_labels.extend(labels.cpu().numpy())\n",
    "    pred_labels.extend(preds.cpu().numpy())\n",
    "\n",
    "# Confusion matrix\n",
    "conf_matrix = confusion_matrix(true_labels, pred_labels)\n",
    "plt.figure(figsize=(8, 6))\n",
    "sns.heatmap(conf_matrix, annot=True, fmt=\"d\", cmap=\"Blues\", xticklabels=label_encoder.classes_, yticklabels=label_encoder.classes_)\n",
    "plt.xlabel(\"Predicted\")\n",
    "plt.ylabel(\"Actual\")\n",
    "plt.title(\"Confusion Matrix\")\n",
    "plt.show()\n",
    "\n",
    "# Classification report\n",
    "print(classification_report(true_labels, pred_labels, target_names=[str(c) for c in label_encoder.classes_]))\n"
   ]
  },
  {
   "cell_type": "code",
   "execution_count": 50,
   "metadata": {
    "colab": {
     "base_uri": "https://localhost:8080/",
     "height": 564
    },
    "id": "ML4RW9P63DHK",
    "outputId": "0e711c96-d722-403d-8905-d09a6e76d0bd"
   },
   "outputs": [
    {
     "data": {
      "image/png": "[encoded data removed]",
      "text/plain": [
       "<Figure size 1200x600 with 1 Axes>"
      ]
     },
     "metadata": {},
     "output_type": "display_data"
    }
   ],
   "source": [
    "train_losses, test_accuracies = [], []\n",
    "\n",
    "for epoch in range(EPOCHS):\n",
    "    train_loss = train_epoch(model, train_loader, optimizer, criterion)\n",
    "    acc = evaluate(model, test_loader)\n",
    "    train_losses.append(train_loss)\n",
    "    test_accuracies.append(acc)\n",
    "\n",
    "plt.figure(figsize=(12, 6))\n",
    "plt.plot(range(1, EPOCHS + 1), train_losses, label=\"Train Loss\")\n",
    "plt.plot(range(1, EPOCHS + 1), test_accuracies, label=\"Test Accuracy\")\n",
    "plt.xlabel(\"Epoch\")\n",
    "plt.ylabel(\"Loss / Accuracy\")\n",
    "plt.title(\"Learning Curve\")\n",
    "plt.legend()\n",
    "plt.show()\n"
   ]
  },
  {
   "cell_type": "markdown",
   "metadata": {
    "id": "wa7T_IFe6BYs"
   },
   "source": [
    "Dari grafik **Learning Curve** yang ditampilkan:\n",
    "\n",
    "- **Train Loss** cenderung menurun seiring bertambahnya epoch.\n",
    "- **Test Accuracy** terlihat konstan dan stabil di sekitar 0.83–0.84 tanpa perubahan signifikan.\n",
    "\n",
    "**Kesimpulan**\n",
    "- **Tidak ada indikasi overfitting yang signifikan** karena:\n",
    "  - **Train Loss** menurun secara bertahap, tetapi tidak mendekati nol secara ekstrem.\n",
    "  - **Test Accuracy** stabil dan tidak menurun drastis, yang berarti model tidak kehilangan kemampuan untuk generalisasi.\n",
    "- **Catatan tambahan**: Jika model overfit, Anda akan melihat **Train Loss** sangat rendah sementara **Test Accuracy** menurun atau tidak meningkat.\n",
    "\n",
    "**Saran Analisis Lebih Lanjut**\n",
    "1. **Dataset Size**: Jika akurasi sudah stabil dan tidak meningkat, mungkin dataset Anda memiliki ukuran yang kecil atau informasi terbatas.\n",
    "   - Periksa distribusi data, dan jika perlu, tambahkan data baru atau lakukan augmentasi teks.\n",
    "\n",
    "2. **Model Capacity**: Coba eksperimen dengan:\n",
    "   - **Ukuran hidden layer** pada model.\n",
    "   - Tambahkan **regularisasi** seperti `Dropout` (sudah ada di model Anda).\n",
    "\n",
    "3. **Learning Rate**: Coba tuning `learning rate` lebih lanjut dengan eksperimen untuk memastikan tidak stagnan.\n",
    "\n",
    "4. **Metrik Lain**: Evaluasi dengan **confusion matrix** atau **classification report** untuk mengetahui kelas mana yang performanya kurang baik.\n",
    "\n",
    "Jika Anda membutuhkan bantuan untuk analisis lanjutan, beri tahu saya! 😊"
   ]
  },
  {
   "cell_type": "code",
   "execution_count": 52,
   "metadata": {
    "colab": {
     "base_uri": "https://localhost:8080/"
    },
    "id": "vfHj0CQB1Blg",
    "outputId": "97b0af46-6f60-4fcb-f6e0-dc4d6e8e62be"
   },
   "outputs": [
    {
     "name": "stdout",
     "output_type": "stream",
     "text": [
      "Model berhasil disimpan!\n"
     ]
    }
   ],
   "source": [
    "# Save Model\n",
    "torch.save(model.state_dict(), \"fasttext_glove_model.pth\")\n",
    "print(\"Model berhasil disimpan!\")"
   ]
  }
 ],
 "metadata": {
  "accelerator": "GPU",
  "colab": {
   "collapsed_sections": [
    "3djC0D5B050v"
   ],
   "gpuType": "T4",
   "provenance": []
  },
  "kernelspec": {
   "display_name": "Python 3 (ipykernel)",
   "language": "python",
   "name": "python3"
  },
  "language_info": {
   "codemirror_mode": {
    "name": "ipython",
    "version": 3
   },
   "file_extension": ".py",
   "mimetype": "text/x-python",
   "name": "python",
   "nbconvert_exporter": "python",
   "pygments_lexer": "ipython3",
   "version": "3.9.7"
  }
 },
 "nbformat": 4,
 "nbformat_minor": 4
}
