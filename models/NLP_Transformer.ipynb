{
 "cells": [
  {
   "cell_type": "code",
   "execution_count": 44,
   "metadata": {
    "colab": {
     "base_uri": "https://localhost:8080/",
     "height": 1000
    },
    "collapsed": true,
    "id": "yFJn7P8kqWrE",
    "jupyter": {
     "outputs_hidden": true
    },
    "outputId": "89fc3ebb-ca15-4bb5-810f-238b81a66530"
   },
   "outputs": [
    {
     "name": "stdout",
     "output_type": "stream",
     "text": [
      "Collecting torch==2.2.0\n",
      "  Downloading torch-2.2.0-cp310-cp310-manylinux1_x86_64.whl.metadata (25 kB)\n",
      "Collecting torchtext==0.17.0\n",
      "  Downloading torchtext-0.17.0-cp310-cp310-manylinux1_x86_64.whl.metadata (7.6 kB)\n",
      "Requirement already satisfied: filelock in /usr/local/lib/python3.10/dist-packages (from torch==2.2.0) (3.16.1)\n",
      "Requirement already satisfied: typing-extensions>=4.8.0 in /usr/local/lib/python3.10/dist-packages (from torch==2.2.0) (4.12.2)\n",
      "Requirement already satisfied: sympy in /usr/local/lib/python3.10/dist-packages (from torch==2.2.0) (1.13.1)\n",
      "Requirement already satisfied: networkx in /usr/local/lib/python3.10/dist-packages (from torch==2.2.0) (3.4.2)\n",
      "Requirement already satisfied: jinja2 in /usr/local/lib/python3.10/dist-packages (from torch==2.2.0) (3.1.4)\n",
      "Requirement already satisfied: fsspec in /usr/local/lib/python3.10/dist-packages (from torch==2.2.0) (2024.10.0)\n",
      "Collecting nvidia-cuda-nvrtc-cu12==12.1.105 (from torch==2.2.0)\n",
      "  Downloading nvidia_cuda_nvrtc_cu12-12.1.105-py3-none-manylinux1_x86_64.whl.metadata (1.5 kB)\n",
      "Collecting nvidia-cuda-runtime-cu12==12.1.105 (from torch==2.2.0)\n",
      "  Downloading nvidia_cuda_runtime_cu12-12.1.105-py3-none-manylinux1_x86_64.whl.metadata (1.5 kB)\n",
      "Collecting nvidia-cuda-cupti-cu12==12.1.105 (from torch==2.2.0)\n",
      "  Downloading nvidia_cuda_cupti_cu12-12.1.105-py3-none-manylinux1_x86_64.whl.metadata (1.6 kB)\n",
      "Collecting nvidia-cudnn-cu12==8.9.2.26 (from torch==2.2.0)\n",
      "  Downloading nvidia_cudnn_cu12-8.9.2.26-py3-none-manylinux1_x86_64.whl.metadata (1.6 kB)\n",
      "Collecting nvidia-cublas-cu12==12.1.3.1 (from torch==2.2.0)\n",
      "  Downloading nvidia_cublas_cu12-12.1.3.1-py3-none-manylinux1_x86_64.whl.metadata (1.5 kB)\n",
      "Collecting nvidia-cufft-cu12==11.0.2.54 (from torch==2.2.0)\n",
      "  Downloading nvidia_cufft_cu12-11.0.2.54-py3-none-manylinux1_x86_64.whl.metadata (1.5 kB)\n",
      "Collecting nvidia-curand-cu12==10.3.2.106 (from torch==2.2.0)\n",
      "  Downloading nvidia_curand_cu12-10.3.2.106-py3-none-manylinux1_x86_64.whl.metadata (1.5 kB)\n",
      "Collecting nvidia-cusolver-cu12==11.4.5.107 (from torch==2.2.0)\n",
      "  Downloading nvidia_cusolver_cu12-11.4.5.107-py3-none-manylinux1_x86_64.whl.metadata (1.6 kB)\n",
      "Collecting nvidia-cusparse-cu12==12.1.0.106 (from torch==2.2.0)\n",
      "  Downloading nvidia_cusparse_cu12-12.1.0.106-py3-none-manylinux1_x86_64.whl.metadata (1.6 kB)\n",
      "Collecting nvidia-nccl-cu12==2.19.3 (from torch==2.2.0)\n",
      "  Downloading nvidia_nccl_cu12-2.19.3-py3-none-manylinux1_x86_64.whl.metadata (1.8 kB)\n",
      "Collecting nvidia-nvtx-cu12==12.1.105 (from torch==2.2.0)\n",
      "  Downloading nvidia_nvtx_cu12-12.1.105-py3-none-manylinux1_x86_64.whl.metadata (1.7 kB)\n",
      "Collecting triton==2.2.0 (from torch==2.2.0)\n",
      "  Downloading triton-2.2.0-cp310-cp310-manylinux_2_17_x86_64.manylinux2014_x86_64.whl.metadata (1.4 kB)\n",
      "Requirement already satisfied: tqdm in /usr/local/lib/python3.10/dist-packages (from torchtext==0.17.0) (4.66.6)\n",
      "Requirement already satisfied: requests in /usr/local/lib/python3.10/dist-packages (from torchtext==0.17.0) (2.32.3)\n",
      "Requirement already satisfied: numpy in /usr/local/lib/python3.10/dist-packages (from torchtext==0.17.0) (1.26.4)\n",
      "Collecting torchdata==0.7.1 (from torchtext==0.17.0)\n",
      "  Downloading torchdata-0.7.1-cp310-cp310-manylinux_2_17_x86_64.manylinux2014_x86_64.whl.metadata (13 kB)\n",
      "Requirement already satisfied: nvidia-nvjitlink-cu12 in /usr/local/lib/python3.10/dist-packages (from nvidia-cusolver-cu12==11.4.5.107->torch==2.2.0) (12.6.85)\n",
      "Requirement already satisfied: urllib3>=1.25 in /usr/local/lib/python3.10/dist-packages (from torchdata==0.7.1->torchtext==0.17.0) (2.2.3)\n",
      "Requirement already satisfied: MarkupSafe>=2.0 in /usr/local/lib/python3.10/dist-packages (from jinja2->torch==2.2.0) (3.0.2)\n",
      "Requirement already satisfied: charset-normalizer<4,>=2 in /usr/local/lib/python3.10/dist-packages (from requests->torchtext==0.17.0) (3.4.0)\n",
      "Requirement already satisfied: idna<4,>=2.5 in /usr/local/lib/python3.10/dist-packages (from requests->torchtext==0.17.0) (3.10)\n",
      "Requirement already satisfied: certifi>=2017.4.17 in /usr/local/lib/python3.10/dist-packages (from requests->torchtext==0.17.0) (2024.8.30)\n",
      "Requirement already satisfied: mpmath<1.4,>=1.1.0 in /usr/local/lib/python3.10/dist-packages (from sympy->torch==2.2.0) (1.3.0)\n",
      "Downloading torch-2.2.0-cp310-cp310-manylinux1_x86_64.whl (755.5 MB)\n",
      "\u001b[2K   \u001b[90m━━━━━━━━━━━━━━━━━━━━━━━━━━━━━━━━━━━━━━━━\u001b[0m \u001b[32m755.5/755.5 MB\u001b[0m \u001b[31m2.4 MB/s\u001b[0m eta \u001b[36m0:00:00\u001b[0m\n",
      "\u001b[?25hDownloading torchtext-0.17.0-cp310-cp310-manylinux1_x86_64.whl (2.0 MB)\n",
      "\u001b[2K   \u001b[90m━━━━━━━━━━━━━━━━━━━━━━━━━━━━━━━━━━━━━━━━\u001b[0m \u001b[32m2.0/2.0 MB\u001b[0m \u001b[31m75.0 MB/s\u001b[0m eta \u001b[36m0:00:00\u001b[0m\n",
      "\u001b[?25hDownloading nvidia_cublas_cu12-12.1.3.1-py3-none-manylinux1_x86_64.whl (410.6 MB)\n",
      "\u001b[2K   \u001b[90m━━━━━━━━━━━━━━━━━━━━━━━━━━━━━━━━━━━━━━━━\u001b[0m \u001b[32m410.6/410.6 MB\u001b[0m \u001b[31m3.9 MB/s\u001b[0m eta \u001b[36m0:00:00\u001b[0m\n",
      "\u001b[?25hDownloading nvidia_cuda_cupti_cu12-12.1.105-py3-none-manylinux1_x86_64.whl (14.1 MB)\n",
      "\u001b[2K   \u001b[90m━━━━━━━━━━━━━━━━━━━━━━━━━━━━━━━━━━━━━━━━\u001b[0m \u001b[32m14.1/14.1 MB\u001b[0m \u001b[31m90.0 MB/s\u001b[0m eta \u001b[36m0:00:00\u001b[0m\n",
      "\u001b[?25hDownloading nvidia_cuda_nvrtc_cu12-12.1.105-py3-none-manylinux1_x86_64.whl (23.7 MB)\n",
      "\u001b[2K   \u001b[90m━━━━━━━━━━━━━━━━━━━━━━━━━━━━━━━━━━━━━━━━\u001b[0m \u001b[32m23.7/23.7 MB\u001b[0m \u001b[31m27.7 MB/s\u001b[0m eta \u001b[36m0:00:00\u001b[0m\n",
      "\u001b[?25hDownloading nvidia_cuda_runtime_cu12-12.1.105-py3-none-manylinux1_x86_64.whl (823 kB)\n",
      "\u001b[2K   \u001b[90m━━━━━━━━━━━━━━━━━━━━━━━━━━━━━━━━━━━━━━━━\u001b[0m \u001b[32m823.6/823.6 kB\u001b[0m \u001b[31m47.3 MB/s\u001b[0m eta \u001b[36m0:00:00\u001b[0m\n",
      "\u001b[?25hDownloading nvidia_cudnn_cu12-8.9.2.26-py3-none-manylinux1_x86_64.whl (731.7 MB)\n",
      "\u001b[2K   \u001b[90m━━━━━━━━━━━━━━━━━━━━━━━━━━━━━━━━━━━━━━━━\u001b[0m \u001b[32m731.7/731.7 MB\u001b[0m \u001b[31m1.2 MB/s\u001b[0m eta \u001b[36m0:00:00\u001b[0m\n",
      "\u001b[?25hDownloading nvidia_cufft_cu12-11.0.2.54-py3-none-manylinux1_x86_64.whl (121.6 MB)\n",
      "\u001b[2K   \u001b[90m━━━━━━━━━━━━━━━━━━━━━━━━━━━━━━━━━━━━━━━━\u001b[0m \u001b[32m121.6/121.6 MB\u001b[0m \u001b[31m8.8 MB/s\u001b[0m eta \u001b[36m0:00:00\u001b[0m\n",
      "\u001b[?25hDownloading nvidia_curand_cu12-10.3.2.106-py3-none-manylinux1_x86_64.whl (56.5 MB)\n",
      "\u001b[2K   \u001b[90m━━━━━━━━━━━━━━━━━━━━━━━━━━━━━━━━━━━━━━━━\u001b[0m \u001b[32m56.5/56.5 MB\u001b[0m \u001b[31m13.6 MB/s\u001b[0m eta \u001b[36m0:00:00\u001b[0m\n",
      "\u001b[?25hDownloading nvidia_cusolver_cu12-11.4.5.107-py3-none-manylinux1_x86_64.whl (124.2 MB)\n",
      "\u001b[2K   \u001b[90m━━━━━━━━━━━━━━━━━━━━━━━━━━━━━━━━━━━━━━━━\u001b[0m \u001b[32m124.2/124.2 MB\u001b[0m \u001b[31m8.3 MB/s\u001b[0m eta \u001b[36m0:00:00\u001b[0m\n",
      "\u001b[?25hDownloading nvidia_cusparse_cu12-12.1.0.106-py3-none-manylinux1_x86_64.whl (196.0 MB)\n",
      "\u001b[2K   \u001b[90m━━━━━━━━━━━━━━━━━━━━━━━━━━━━━━━━━━━━━━━━\u001b[0m \u001b[32m196.0/196.0 MB\u001b[0m \u001b[31m6.8 MB/s\u001b[0m eta \u001b[36m0:00:00\u001b[0m\n",
      "\u001b[?25hDownloading nvidia_nccl_cu12-2.19.3-py3-none-manylinux1_x86_64.whl (166.0 MB)\n",
      "\u001b[2K   \u001b[90m━━━━━━━━━━━━━━━━━━━━━━━━━━━━━━━━━━━━━━━━\u001b[0m \u001b[32m166.0/166.0 MB\u001b[0m \u001b[31m7.4 MB/s\u001b[0m eta \u001b[36m0:00:00\u001b[0m\n",
      "\u001b[?25hDownloading nvidia_nvtx_cu12-12.1.105-py3-none-manylinux1_x86_64.whl (99 kB)\n",
      "\u001b[2K   \u001b[90m━━━━━━━━━━━━━━━━━━━━━━━━━━━━━━━━━━━━━━━━\u001b[0m \u001b[32m99.1/99.1 kB\u001b[0m \u001b[31m8.2 MB/s\u001b[0m eta \u001b[36m0:00:00\u001b[0m\n",
      "\u001b[?25hDownloading torchdata-0.7.1-cp310-cp310-manylinux_2_17_x86_64.manylinux2014_x86_64.whl (4.7 MB)\n",
      "\u001b[2K   \u001b[90m━━━━━━━━━━━━━━━━━━━━━━━━━━━━━━━━━━━━━━━━\u001b[0m \u001b[32m4.7/4.7 MB\u001b[0m \u001b[31m89.3 MB/s\u001b[0m eta \u001b[36m0:00:00\u001b[0m\n",
      "\u001b[?25hDownloading triton-2.2.0-cp310-cp310-manylinux_2_17_x86_64.manylinux2014_x86_64.whl (167.9 MB)\n",
      "\u001b[2K   \u001b[90m━━━━━━━━━━━━━━━━━━━━━━━━━━━━━━━━━━━━━━━━\u001b[0m \u001b[32m167.9/167.9 MB\u001b[0m \u001b[31m6.7 MB/s\u001b[0m eta \u001b[36m0:00:00\u001b[0m\n",
      "\u001b[?25hInstalling collected packages: triton, nvidia-nvtx-cu12, nvidia-nccl-cu12, nvidia-cusparse-cu12, nvidia-curand-cu12, nvidia-cufft-cu12, nvidia-cuda-runtime-cu12, nvidia-cuda-nvrtc-cu12, nvidia-cuda-cupti-cu12, nvidia-cublas-cu12, nvidia-cusolver-cu12, nvidia-cudnn-cu12, torch, torchdata, torchtext\n",
      "  Attempting uninstall: nvidia-nccl-cu12\n",
      "    Found existing installation: nvidia-nccl-cu12 2.23.4\n",
      "    Uninstalling nvidia-nccl-cu12-2.23.4:\n",
      "      Successfully uninstalled nvidia-nccl-cu12-2.23.4\n",
      "  Attempting uninstall: nvidia-cusparse-cu12\n",
      "    Found existing installation: nvidia-cusparse-cu12 12.5.4.2\n",
      "    Uninstalling nvidia-cusparse-cu12-12.5.4.2:\n",
      "      Successfully uninstalled nvidia-cusparse-cu12-12.5.4.2\n",
      "  Attempting uninstall: nvidia-curand-cu12\n",
      "    Found existing installation: nvidia-curand-cu12 10.3.7.77\n",
      "    Uninstalling nvidia-curand-cu12-10.3.7.77:\n",
      "      Successfully uninstalled nvidia-curand-cu12-10.3.7.77\n",
      "  Attempting uninstall: nvidia-cufft-cu12\n",
      "    Found existing installation: nvidia-cufft-cu12 11.3.0.4\n",
      "    Uninstalling nvidia-cufft-cu12-11.3.0.4:\n",
      "      Successfully uninstalled nvidia-cufft-cu12-11.3.0.4\n",
      "  Attempting uninstall: nvidia-cuda-runtime-cu12\n",
      "    Found existing installation: nvidia-cuda-runtime-cu12 12.6.77\n",
      "    Uninstalling nvidia-cuda-runtime-cu12-12.6.77:\n",
      "      Successfully uninstalled nvidia-cuda-runtime-cu12-12.6.77\n",
      "  Attempting uninstall: nvidia-cuda-cupti-cu12\n",
      "    Found existing installation: nvidia-cuda-cupti-cu12 12.6.80\n",
      "    Uninstalling nvidia-cuda-cupti-cu12-12.6.80:\n",
      "      Successfully uninstalled nvidia-cuda-cupti-cu12-12.6.80\n",
      "  Attempting uninstall: nvidia-cublas-cu12\n",
      "    Found existing installation: nvidia-cublas-cu12 12.6.4.1\n",
      "    Uninstalling nvidia-cublas-cu12-12.6.4.1:\n",
      "      Successfully uninstalled nvidia-cublas-cu12-12.6.4.1\n",
      "  Attempting uninstall: nvidia-cusolver-cu12\n",
      "    Found existing installation: nvidia-cusolver-cu12 11.7.1.2\n",
      "    Uninstalling nvidia-cusolver-cu12-11.7.1.2:\n",
      "      Successfully uninstalled nvidia-cusolver-cu12-11.7.1.2\n",
      "  Attempting uninstall: nvidia-cudnn-cu12\n",
      "    Found existing installation: nvidia-cudnn-cu12 9.6.0.74\n",
      "    Uninstalling nvidia-cudnn-cu12-9.6.0.74:\n",
      "      Successfully uninstalled nvidia-cudnn-cu12-9.6.0.74\n",
      "  Attempting uninstall: torch\n",
      "    Found existing installation: torch 2.5.1+cu121\n",
      "    Uninstalling torch-2.5.1+cu121:\n",
      "      Successfully uninstalled torch-2.5.1+cu121\n",
      "  Attempting uninstall: torchtext\n",
      "    Found existing installation: torchtext 0.18.0\n",
      "    Uninstalling torchtext-0.18.0:\n",
      "      Successfully uninstalled torchtext-0.18.0\n",
      "\u001b[31mERROR: pip's dependency resolver does not currently take into account all the packages that are installed. This behaviour is the source of the following dependency conflicts.\n",
      "torchaudio 2.5.1+cu121 requires torch==2.5.1, but you have torch 2.2.0 which is incompatible.\n",
      "torchvision 0.20.1+cu121 requires torch==2.5.1, but you have torch 2.2.0 which is incompatible.\u001b[0m\u001b[31m\n",
      "\u001b[0mSuccessfully installed nvidia-cublas-cu12-12.1.3.1 nvidia-cuda-cupti-cu12-12.1.105 nvidia-cuda-nvrtc-cu12-12.1.105 nvidia-cuda-runtime-cu12-12.1.105 nvidia-cudnn-cu12-8.9.2.26 nvidia-cufft-cu12-11.0.2.54 nvidia-curand-cu12-10.3.2.106 nvidia-cusolver-cu12-11.4.5.107 nvidia-cusparse-cu12-12.1.0.106 nvidia-nccl-cu12-2.19.3 nvidia-nvtx-cu12-12.1.105 torch-2.2.0 torchdata-0.7.1 torchtext-0.17.0 triton-2.2.0\n"
     ]
    },
    {
     "data": {
      "application/vnd.colab-display-data+json": {
       "id": "5c24f3e8c6ab441eb098cfcfd46e1e23",
       "pip_warning": {
        "packages": [
         "torch",
         "torchgen"
        ]
       }
      }
     },
     "metadata": {},
     "output_type": "display_data"
    },
    {
     "name": "stdout",
     "output_type": "stream",
     "text": [
      "Collecting portalocker==3.0.0\n",
      "  Downloading portalocker-3.0.0-py3-none-any.whl.metadata (8.5 kB)\n",
      "Downloading portalocker-3.0.0-py3-none-any.whl (19 kB)\n",
      "Installing collected packages: portalocker\n",
      "Successfully installed portalocker-3.0.0\n"
     ]
    }
   ],
   "source": [
    "!pip install torch==2.2.0 torchtext==0.17.0\n",
    "!pip install portalocker==3.0.0"
   ]
  },
  {
   "cell_type": "code",
   "execution_count": 1,
   "metadata": {
    "colab": {
     "base_uri": "https://localhost:8080/"
    },
    "collapsed": true,
    "id": "QVdLRCKzxzuS",
    "jupyter": {
     "outputs_hidden": true
    },
    "outputId": "1c848ee3-fc14-4ae8-d181-ce663de423c0"
   },
   "outputs": [
    {
     "name": "stdout",
     "output_type": "stream",
     "text": [
      "Requirement already satisfied: gensim in /usr/local/lib/python3.10/dist-packages (4.3.3)\n",
      "Requirement already satisfied: numpy<2.0,>=1.18.5 in /usr/local/lib/python3.10/dist-packages (from gensim) (1.26.4)\n",
      "Requirement already satisfied: scipy<1.14.0,>=1.7.0 in /usr/local/lib/python3.10/dist-packages (from gensim) (1.13.1)\n",
      "Requirement already satisfied: smart-open>=1.8.1 in /usr/local/lib/python3.10/dist-packages (from gensim) (7.0.5)\n",
      "Requirement already satisfied: wrapt in /usr/local/lib/python3.10/dist-packages (from smart-open>=1.8.1->gensim) (1.17.0)\n",
      "Requirement already satisfied: gensim in /usr/local/lib/python3.10/dist-packages (4.3.3)\n",
      "Requirement already satisfied: torch in /usr/local/lib/python3.10/dist-packages (2.5.1+cu121)\n",
      "Requirement already satisfied: torchvision in /usr/local/lib/python3.10/dist-packages (0.20.1+cu121)\n",
      "Requirement already satisfied: scikit-learn in /usr/local/lib/python3.10/dist-packages (1.5.2)\n",
      "Requirement already satisfied: pandas in /usr/local/lib/python3.10/dist-packages (2.2.2)\n",
      "Requirement already satisfied: numpy<2.0,>=1.18.5 in /usr/local/lib/python3.10/dist-packages (from gensim) (1.26.4)\n",
      "Requirement already satisfied: scipy<1.14.0,>=1.7.0 in /usr/local/lib/python3.10/dist-packages (from gensim) (1.13.1)\n",
      "Requirement already satisfied: smart-open>=1.8.1 in /usr/local/lib/python3.10/dist-packages (from gensim) (7.0.5)\n",
      "Requirement already satisfied: filelock in /usr/local/lib/python3.10/dist-packages (from torch) (3.16.1)\n",
      "Requirement already satisfied: typing-extensions>=4.8.0 in /usr/local/lib/python3.10/dist-packages (from torch) (4.12.2)\n",
      "Requirement already satisfied: networkx in /usr/local/lib/python3.10/dist-packages (from torch) (3.4.2)\n",
      "Requirement already satisfied: jinja2 in /usr/local/lib/python3.10/dist-packages (from torch) (3.1.4)\n",
      "Requirement already satisfied: fsspec in /usr/local/lib/python3.10/dist-packages (from torch) (2024.10.0)\n",
      "Requirement already satisfied: sympy==1.13.1 in /usr/local/lib/python3.10/dist-packages (from torch) (1.13.1)\n",
      "Requirement already satisfied: mpmath<1.4,>=1.1.0 in /usr/local/lib/python3.10/dist-packages (from sympy==1.13.1->torch) (1.3.0)\n",
      "Requirement already satisfied: pillow!=8.3.*,>=5.3.0 in /usr/local/lib/python3.10/dist-packages (from torchvision) (11.0.0)\n",
      "Requirement already satisfied: joblib>=1.2.0 in /usr/local/lib/python3.10/dist-packages (from scikit-learn) (1.4.2)\n",
      "Requirement already satisfied: threadpoolctl>=3.1.0 in /usr/local/lib/python3.10/dist-packages (from scikit-learn) (3.5.0)\n",
      "Requirement already satisfied: python-dateutil>=2.8.2 in /usr/local/lib/python3.10/dist-packages (from pandas) (2.8.2)\n",
      "Requirement already satisfied: pytz>=2020.1 in /usr/local/lib/python3.10/dist-packages (from pandas) (2024.2)\n",
      "Requirement already satisfied: tzdata>=2022.7 in /usr/local/lib/python3.10/dist-packages (from pandas) (2024.2)\n",
      "Requirement already satisfied: six>=1.5 in /usr/local/lib/python3.10/dist-packages (from python-dateutil>=2.8.2->pandas) (1.17.0)\n",
      "Requirement already satisfied: wrapt in /usr/local/lib/python3.10/dist-packages (from smart-open>=1.8.1->gensim) (1.17.0)\n",
      "Requirement already satisfied: MarkupSafe>=2.0 in /usr/local/lib/python3.10/dist-packages (from jinja2->torch) (3.0.2)\n"
     ]
    }
   ],
   "source": [
    "!pip install gensim\n",
    "!pip install gensim torch torchvision scikit-learn pandas"
   ]
  },
  {
   "cell_type": "code",
   "execution_count": 41,
   "metadata": {
    "colab": {
     "base_uri": "https://localhost:8080/"
    },
    "collapsed": true,
    "id": "27sn5dth8ZdG",
    "jupyter": {
     "outputs_hidden": true
    },
    "outputId": "e3f8c645-9c0e-4b67-c87c-826b557cc9af"
   },
   "outputs": [
    {
     "name": "stdout",
     "output_type": "stream",
     "text": [
      "Requirement already satisfied: torchtext in /usr/local/lib/python3.10/dist-packages (0.18.0)\n",
      "Requirement already satisfied: tqdm in /usr/local/lib/python3.10/dist-packages (from torchtext) (4.66.6)\n",
      "Requirement already satisfied: requests in /usr/local/lib/python3.10/dist-packages (from torchtext) (2.32.3)\n",
      "Requirement already satisfied: torch>=2.3.0 in /usr/local/lib/python3.10/dist-packages (from torchtext) (2.5.1+cu121)\n",
      "Requirement already satisfied: numpy in /usr/local/lib/python3.10/dist-packages (from torchtext) (1.26.4)\n",
      "Requirement already satisfied: filelock in /usr/local/lib/python3.10/dist-packages (from torch>=2.3.0->torchtext) (3.16.1)\n",
      "Requirement already satisfied: typing-extensions>=4.8.0 in /usr/local/lib/python3.10/dist-packages (from torch>=2.3.0->torchtext) (4.12.2)\n",
      "Requirement already satisfied: networkx in /usr/local/lib/python3.10/dist-packages (from torch>=2.3.0->torchtext) (3.4.2)\n",
      "Requirement already satisfied: jinja2 in /usr/local/lib/python3.10/dist-packages (from torch>=2.3.0->torchtext) (3.1.4)\n",
      "Requirement already satisfied: fsspec in /usr/local/lib/python3.10/dist-packages (from torch>=2.3.0->torchtext) (2024.10.0)\n",
      "Requirement already satisfied: sympy==1.13.1 in /usr/local/lib/python3.10/dist-packages (from torch>=2.3.0->torchtext) (1.13.1)\n",
      "Requirement already satisfied: mpmath<1.4,>=1.1.0 in /usr/local/lib/python3.10/dist-packages (from sympy==1.13.1->torch>=2.3.0->torchtext) (1.3.0)\n",
      "Requirement already satisfied: charset-normalizer<4,>=2 in /usr/local/lib/python3.10/dist-packages (from requests->torchtext) (3.4.0)\n",
      "Requirement already satisfied: idna<4,>=2.5 in /usr/local/lib/python3.10/dist-packages (from requests->torchtext) (3.10)\n",
      "Requirement already satisfied: urllib3<3,>=1.21.1 in /usr/local/lib/python3.10/dist-packages (from requests->torchtext) (2.2.3)\n",
      "Requirement already satisfied: certifi>=2017.4.17 in /usr/local/lib/python3.10/dist-packages (from requests->torchtext) (2024.8.30)\n",
      "Requirement already satisfied: MarkupSafe>=2.0 in /usr/local/lib/python3.10/dist-packages (from jinja2->torch>=2.3.0->torchtext) (3.0.2)\n"
     ]
    }
   ],
   "source": [
    "!pip install torchtext"
   ]
  },
  {
   "cell_type": "code",
   "execution_count": 9,
   "metadata": {
    "id": "alZeW5hXx9cR"
   },
   "outputs": [],
   "source": [
    "# Import Library\n",
    "import pandas as pd  # Untuk memanipulasi dan menganalisis data menggunakan DataFrame.\n",
    "import torch  # Untuk menggunakan PyTorch, framework deep learning.\n",
    "import numpy as np  # Untuk operasi matematis dan array, sering digunakan dengan PyTorch.\n",
    "from torch.utils.data import Dataset, DataLoader  # Untuk membuat Dataset kustom dan memuat data dalam batch.\n",
    "from torch import nn  # Untuk mengimpor modul neural network di PyTorch (seperti layer-layer neural network).\n",
    "from sklearn.preprocessing import LabelEncoder  # Untuk mengubah label kategorikal menjadi format numerik.\n",
    "from sklearn.metrics import accuracy_score  # Untuk menghitung akurasi dari prediksi model.\n",
    "import os  # Untuk berinteraksi dengan sistem file (misalnya, memeriksa path file)."
   ]
  },
  {
   "cell_type": "code",
   "execution_count": 10,
   "metadata": {
    "colab": {
     "base_uri": "https://localhost:8080/"
    },
    "id": "H7OMZmX5yIzv",
    "outputId": "fe53f1b7-3e06-45ff-d062-a5329d3406ab"
   },
   "outputs": [
    {
     "name": "stdout",
     "output_type": "stream",
     "text": [
      "Using device: cuda\n"
     ]
    }
   ],
   "source": [
    "# Cek device\n",
    "device = torch.device(\"cuda\" if torch.cuda.is_available() else \"cpu\")  # Memeriksa apakah GPU tersedia dan memilih antara GPU (cuda) atau CPU.\n",
    "print(f\"Using device: {device}\")  # Mencetak device yang digunakan (GPU atau CPU)."
   ]
  },
  {
   "cell_type": "code",
   "execution_count": 12,
   "metadata": {
    "id": "9OSVkN8OyJTy"
   },
   "outputs": [],
   "source": [
    "# Path Dataset dan GloVe\n",
    "train_dataset = \"/content/train.csv\"  # Mendefinisikan path untuk dataset pelatihan yang disimpan dalam file CSV.\n",
    "test_dataset = \"/content/test.csv\"    # Mendefinisikan path untuk dataset pengujian yang disimpan dalam file CSV.\n",
    "GLOVE_PATH = \"/content/glove.6B.100d.txt\"  # Menyimpan path ke file GloVe dengan dimensi embedding 100.\n",
    "EMBEDDING_DIM = 100  # Mendefinisikan dimensi embedding untuk GloVe yang akan digunakan (100 dimensi)."
   ]
  },
  {
   "cell_type": "code",
   "execution_count": 13,
   "metadata": {
    "id": "sQGoYhMWyZ7t"
   },
   "outputs": [],
   "source": [
    "# Load Dataset\n",
    "train_df = pd.read_csv(train_dataset, header=None, names=[\"class\", \"title\", \"description\"])  # Membaca file CSV untuk dataset pelatihan, tanpa header dan memberikan nama kolom: \"class\", \"title\", \"description\"\n",
    "test_df = pd.read_csv(test_dataset, header=None, names=[\"class\", \"title\", \"description\"])  # Membaca file CSV untuk dataset pengujian, tanpa header dan memberikan nama kolom: \"class\", \"title\", \"description\""
   ]
  },
  {
   "cell_type": "code",
   "execution_count": 14,
   "metadata": {
    "id": "FLC71cww0I3j"
   },
   "outputs": [],
   "source": [
    "# Gabungkan title dan description\n",
    "train_df[\"text\"] = train_df[\"title\"].fillna(\"\") + \". \" + train_df[\"description\"].fillna(\"\")  # Gabungkan title dan description pada data pelatihan (train_df)\n",
    "test_df[\"text\"] = test_df[\"title\"].fillna(\"\") + \". \" + test_df[\"description\"].fillna(\"\")  # Gabungkan title dan description pada data pengujian (test_df)"
   ]
  },
  {
   "cell_type": "code",
   "execution_count": 15,
   "metadata": {
    "id": "hjQlQEwr0NWc"
   },
   "outputs": [],
   "source": [
    "# Encode label\n",
    "label_encoder = LabelEncoder()  # Membuat objek LabelEncoder yang digunakan untuk mengubah label kategorikal menjadi angka.\n",
    "train_df[\"label\"] = label_encoder.fit_transform(train_df[\"class\"])  # Mengubah kolom \"class\" di train_df menjadi angka, hasilnya disimpan di kolom \"label\".\n",
    "test_df[\"label\"] = label_encoder.transform(test_df[\"class\"])  # Mengubah kolom \"class\" di test_df menjadi angka menggunakan LabelEncoder yang sudah dipelajari dari train_df."
   ]
  },
  {
   "cell_type": "code",
   "execution_count": 16,
   "metadata": {
    "colab": {
     "base_uri": "https://localhost:8080/"
    },
    "id": "G8IPQ8H90RHL",
    "outputId": "06e2ba59-d913-4aea-c237-ef49be70f48f"
   },
   "outputs": [
    {
     "name": "stdout",
     "output_type": "stream",
     "text": [
      "Sample data:\n",
      "   class                                              title  \\\n",
      "0      3  Wall St. Bears Claw Back Into the Black (Reuters)   \n",
      "1      3  Carlyle Looks Toward Commercial Aerospace (Reu...   \n",
      "2      3    Oil and Economy Cloud Stocks' Outlook (Reuters)   \n",
      "3      3  Iraq Halts Oil Exports from Main Southern Pipe...   \n",
      "4      3  Oil prices soar to all-time record, posing new...   \n",
      "\n",
      "                                         description  \\\n",
      "0  Reuters - Short-sellers, Wall Street's dwindli...   \n",
      "1  Reuters - Private investment firm Carlyle Grou...   \n",
      "2  Reuters - Soaring crude prices plus worries\\ab...   \n",
      "3  Reuters - Authorities have halted oil export\\f...   \n",
      "4  AFP - Tearaway world oil prices, toppling reco...   \n",
      "\n",
      "                                                text  label  \n",
      "0  Wall St. Bears Claw Back Into the Black (Reute...      2  \n",
      "1  Carlyle Looks Toward Commercial Aerospace (Reu...      2  \n",
      "2  Oil and Economy Cloud Stocks' Outlook (Reuters...      2  \n",
      "3  Iraq Halts Oil Exports from Main Southern Pipe...      2  \n",
      "4  Oil prices soar to all-time record, posing new...      2  \n"
     ]
    }
   ],
   "source": [
    "print(\"Sample data:\")  # Mencetak teks 'Sample data:' untuk menunjukkan bahwa data yang ditampilkan berikutnya adalah sampel dari dataset.\n",
    "print(train_df.head())  # Mencetak 5 baris pertama dari dataset train_df untuk memeriksa bentuk dan sample data."
   ]
  },
  {
   "cell_type": "code",
   "execution_count": 17,
   "metadata": {
    "colab": {
     "base_uri": "https://localhost:8080/"
    },
    "id": "WkWRroZW0amg",
    "outputId": "ee6e8682-94cd-45bb-f4b2-41f4bd8778f1"
   },
   "outputs": [
    {
     "name": "stdout",
     "output_type": "stream",
     "text": [
      "Loading GloVe embeddings...\n",
      "GloVe embeddings loaded successfully!\n",
      "Embedding matrix shape: torch.Size([400002, 100])\n"
     ]
    }
   ],
   "source": [
    "# Load GloVe embeddings\n",
    "def load_glove_embeddings(glove_path, embedding_dim):\n",
    "    # Menyediakan dictionary untuk mapping dari kata ke index dan memasukkan token <PAD> dan <UNK> yang memiliki index 0 dan 1\n",
    "    word_to_idx = {\"<PAD>\": 0, \"<UNK>\": 1}\n",
    "\n",
    "    # Menyediakan list untuk menyimpan vektor embedding, dimulai dengan vektor kosong untuk <PAD> dan vektor acak untuk <UNK>\n",
    "    embedding_matrix = [np.zeros(embedding_dim), np.random.uniform(-0.25, 0.25, embedding_dim)]\n",
    "\n",
    "    # Mencetak pesan bahwa GloVe embeddings sedang dimuat\n",
    "    print(\"Loading GloVe embeddings...\")\n",
    "\n",
    "    # Membuka file GloVe untuk membaca vektor embedding\n",
    "    with open(glove_path, \"r\", encoding=\"utf-8\") as f:\n",
    "        # Membaca file baris per baris\n",
    "        for line in f:\n",
    "            parts = line.split()  # Memisahkan kata dan vektor embeddingnya\n",
    "            word = parts[0]  # Kata pertama adalah kata itu sendiri\n",
    "            vector = np.array(parts[1:], dtype=np.float32)  # Sisanya adalah vektor angka, yang dikonversi ke array numpy\n",
    "\n",
    "            # Menambahkan kata tersebut ke dictionary dengan index yang sesuai\n",
    "            word_to_idx[word] = len(word_to_idx)\n",
    "\n",
    "            # Menambahkan vektor embedding dari kata ke embedding matrix\n",
    "            embedding_matrix.append(vector)\n",
    "\n",
    "    # Mengubah embedding matrix menjadi array numpy\n",
    "    embedding_matrix = np.array(embedding_matrix)\n",
    "\n",
    "    # Mencetak pesan bahwa GloVe embeddings telah berhasil dimuat\n",
    "    print(\"GloVe embeddings loaded successfully!\")\n",
    "\n",
    "    # Mengembalikan dictionary word_to_idx dan tensor embedding_matrix sebagai hasil\n",
    "    return word_to_idx, torch.tensor(embedding_matrix, dtype=torch.float)\n",
    "\n",
    "# Memanggil fungsi untuk memuat GloVe embeddings\n",
    "word_to_idx, embedding_matrix = load_glove_embeddings(GLOVE_PATH, EMBEDDING_DIM)\n",
    "\n",
    "# Mencetak ukuran dari embedding matrix untuk memverifikasi\n",
    "print(f\"Embedding matrix shape: {embedding_matrix.shape}\")"
   ]
  },
  {
   "cell_type": "code",
   "execution_count": 18,
   "metadata": {
    "id": "0lMHQXqu0jm_"
   },
   "outputs": [],
   "source": [
    "# Tokenizer sederhana\n",
    "def tokenize(text):\n",
    "    # Mengubah semua huruf dalam teks menjadi huruf kecil (lowercase) agar tidak peka terhadap kapitalisasi\n",
    "    return text.lower().split()  # Memisahkan teks berdasarkan spasi untuk mendapatkan kata-kata individual"
   ]
  },
  {
   "cell_type": "code",
   "execution_count": 23,
   "metadata": {
    "id": "nBCwcYHg0rNl"
   },
   "outputs": [],
   "source": [
    "# Mendefinisikan kelas AGNewsDataset yang merupakan subclass dari Dataset\n",
    "class AGNewsDataset(Dataset):\n",
    "    # Konstruktor untuk menginisialisasi objek AGNewsDataset\n",
    "    def __init__(self, texts, labels, word_to_idx, max_len):\n",
    "        # Menyimpan parameter ke dalam variabel kelas\n",
    "        self.texts = texts           # Menyimpan daftar teks (judul + deskripsi) untuk dataset\n",
    "        self.labels = labels         # Menyimpan daftar label untuk setiap teks\n",
    "        self.word_to_idx = word_to_idx  # Menyimpan dictionary untuk mapping kata ke index\n",
    "        self.max_len = max_len       # Menyimpan panjang maksimal untuk padding/truncating\n",
    "\n",
    "    # Fungsi untuk mengembalikan panjang dataset (jumlah sampel)\n",
    "    def __len__(self):\n",
    "        return len(self.texts)  # Mengembalikan jumlah teks yang ada dalam dataset\n",
    "\n",
    "    # Fungsi untuk mengambil item berdasarkan index\n",
    "    def __getitem__(self, idx):\n",
    "        # Mengambil teks dan label berdasarkan index\n",
    "        text = self.texts[idx]\n",
    "        label = self.labels[idx]\n",
    "\n",
    "        # Tokenisasi teks dan konversi token ke indeks menggunakan word_to_idx\n",
    "        tokens = tokenize(text)  # Memanggil fungsi tokenize untuk memisahkan teks menjadi kata-kata (tokens)\n",
    "        # Konversi setiap token ke indeks menggunakan dictionary word_to_idx\n",
    "        # Jika kata tidak ditemukan di dictionary, maka menggunakan indeks 1 (token <UNK>)\n",
    "        token_ids = [self.word_to_idx.get(token, 1) for token in tokens]\n",
    "\n",
    "        # Padding atau pemotongan teks agar memiliki panjang yang konsisten\n",
    "        if len(token_ids) < self.max_len:\n",
    "            # Jika panjang token kurang dari max_len, tambahkan <PAD> (indeks 0) hingga panjangnya mencapai max_len\n",
    "            token_ids += [0] * (self.max_len - len(token_ids))  # 0 = \"<PAD>\"\n",
    "        else:\n",
    "            # Jika panjang token lebih dari max_len, potong token agar panjangnya tidak melebihi max_len\n",
    "            token_ids = token_ids[:self.max_len]\n",
    "\n",
    "        # Mengembalikan dictionary yang berisi input_ids dan label sebagai tensor\n",
    "        # Input_ids adalah token yang sudah di-padded atau dipotong\n",
    "        # Label adalah label yang sesuai dengan teks\n",
    "        return {\n",
    "            \"input_ids\": torch.tensor(token_ids, dtype=torch.long),  # Mengubah token_ids ke tensor\n",
    "            \"label\": torch.tensor(label, dtype=torch.long)  # Mengubah label ke tensor\n",
    "        }"
   ]
  },
  {
   "cell_type": "code",
   "execution_count": 26,
   "metadata": {
    "id": "hlceCOzJ08lt"
   },
   "outputs": [],
   "source": [
    "# Menentukan panjang maksimal untuk tokenisasi (panjang input maksimal yang diterima oleh model)\n",
    "MAX_LEN = 100  # Maksimal panjang sequence (jumlah token) untuk setiap teks\n",
    "\n",
    "# Membuat dataset untuk data pelatihan dengan menggunakan AGNewsDataset\n",
    "train_dataset = AGNewsDataset(train_df[\"text\"].values, train_df[\"label\"].values, word_to_idx, MAX_LEN)\n",
    "# Membuat dataset untuk data pengujian dengan menggunakan AGNewsDataset\n",
    "test_dataset = AGNewsDataset(test_df[\"text\"].values, test_df[\"label\"].values, word_to_idx, MAX_LEN)\n",
    "\n",
    "# Membuat DataLoader untuk train_dataset dengan ukuran batch 32 dan shuffle data (acak urutan data untuk setiap epoch)\n",
    "train_loader = DataLoader(train_dataset, batch_size=32, shuffle=True)\n",
    "\n",
    "# Membuat DataLoader untuk test_dataset dengan ukuran batch 32 (tanpa shuffle karena data pengujian tidak perlu diacak)\n",
    "test_loader = DataLoader(test_dataset, batch_size=32)"
   ]
  },
  {
   "cell_type": "code",
   "execution_count": 27,
   "metadata": {
    "id": "zfvPiksi2c-p"
   },
   "outputs": [],
   "source": [
    "class TransformerClassifier(nn.Module):\n",
    "    # Inisialisasi model TransformerClassifier\n",
    "    def __init__(self, embedding_matrix, n_heads, hidden_size, n_encoders, n_classes, max_len=100, dropout=0.5):\n",
    "        # Memanggil constructor kelas induk nn.Module\n",
    "        super(TransformerClassifier, self).__init__()\n",
    "\n",
    "        # Mendapatkan ukuran embedding matrix (vocab_size dan embedding_dim)\n",
    "        vocab_size, embedding_dim = embedding_matrix.shape\n",
    "\n",
    "        # Load GloVe embeddings ke dalam layer embedding\n",
    "        # Menggunakan embedding_matrix yang sudah dilatih sebelumnya, dan menentukan agar embedding tidak diubah (freeze=True)\n",
    "        self.embedding = nn.Embedding.from_pretrained(embedding_matrix, freeze=True)\n",
    "\n",
    "        # Positional Encoding: Membuat posisi token dalam urutan input agar model bisa mengenali urutan kata\n",
    "        # Positional encoding ini akan dipelajari dan ditambahkan ke embedding kata\n",
    "        self.positional_encoding = nn.Embedding(max_len, embedding_dim)\n",
    "\n",
    "        # Transformer Encoder Layer\n",
    "        # nn.TransformerEncoderLayer digunakan untuk membangun layer dasar dari encoder Transformer\n",
    "        # Parameter:\n",
    "        #   - d_model: Dimensi embedding\n",
    "        #   - nhead: Jumlah head di multi-head attention\n",
    "        #   - dim_feedforward: Ukuran hidden layer feedforward dalam encoder\n",
    "        #   - dropout: Probabilitas dropout untuk regularisasi\n",
    "        self.encoder_layer = nn.TransformerEncoderLayer(\n",
    "            d_model=embedding_dim,\n",
    "            nhead=n_heads,\n",
    "            dim_feedforward=hidden_size,\n",
    "            dropout=dropout\n",
    "        )\n",
    "\n",
    "        # Menggunakan Transformer Encoder, yang terdiri dari beberapa encoder layer\n",
    "        self.encoder = nn.TransformerEncoder(self.encoder_layer, num_layers=n_encoders)\n",
    "\n",
    "        # Fully Connected Layer (FC) untuk klasifikasi\n",
    "        # Setelah transformasi oleh Transformer, data akan dipadatkan (flatten) menjadi vektor panjang\n",
    "        # Kemudian, layer ini menghasilkan prediksi kelas\n",
    "        self.fc = nn.Linear(embedding_dim * max_len, n_classes)\n",
    "\n",
    "    def forward(self, x):\n",
    "        # Menghitung embedding dari input x\n",
    "        # x adalah tensor dengan indeks token, yang diubah menjadi embedding menggunakan self.embedding\n",
    "        x = self.embedding(x) + self.positional_encoding(torch.arange(MAX_LEN, device=DEVICE))\n",
    "\n",
    "        # Menambahkan positional encoding ke embedding kata\n",
    "        # Positional encoding memberikan informasi tentang posisi token dalam urutan kalimat\n",
    "\n",
    "        # Menyusun input untuk transformer: Transformer mengharuskan input dalam bentuk (seq_len, batch_size, embedding_dim)\n",
    "        # Permute untuk mengubah urutan dimensi dari (batch_size, seq_len, embedding_dim) ke (seq_len, batch_size, embedding_dim)\n",
    "        x = self.encoder(x.permute(1, 0, 2))  # (seq_len, batch_size, emb_dim)\n",
    "\n",
    "        # Mengubah output kembali menjadi bentuk (batch_size, seq_len * emb_dim)\n",
    "        # Setelah melewati transformer encoder, hasil outputnya harus diratakan (flatten) agar bisa diproses oleh fully connected layer\n",
    "        x = x.permute(1, 0, 2).contiguous().view(x.size(1), -1)  # Flatten\n",
    "\n",
    "        # Melalui fully connected layer untuk mendapatkan prediksi kelas\n",
    "        return self.fc(x)  # Output ukuran [batch_size, n_classes]"
   ]
  },
  {
   "cell_type": "code",
   "execution_count": 28,
   "metadata": {
    "colab": {
     "base_uri": "https://localhost:8080/"
    },
    "id": "zdSyE54R2KDB",
    "outputId": "e7973bdb-c04b-46c2-ebf3-a12c8b2c6be3"
   },
   "outputs": [
    {
     "name": "stderr",
     "output_type": "stream",
     "text": [
      "/usr/local/lib/python3.10/dist-packages/torch/nn/modules/transformer.py:379: UserWarning: enable_nested_tensor is True, but self.use_nested_tensor is False because encoder_layer.self_attn.batch_first was not True(use batch_first for better inference performance)\n",
      "  warnings.warn(\n"
     ]
    }
   ],
   "source": [
    "# Inisialisasi Model\n",
    "model = TransformerClassifier(\n",
    "    embedding_matrix=embedding_matrix,  # Matriks embedding yang berisi representasi kata-kata dari GloVe\n",
    "    n_heads=4,  # Jumlah \"attention heads\" dalam layer Transformer Encoder, yaitu 4\n",
    "    hidden_size=128,  # Ukuran dimensi untuk hidden layer feedforward, yaitu 128 unit\n",
    "    n_encoders=2,  # Jumlah layer encoder Transformer, yaitu 2 layer\n",
    "    n_classes=len(label_encoder.classes_)  # Jumlah kelas untuk output layer, berdasarkan banyaknya kelas di label encoder\n",
    ").to(device)  # Memindahkan model ke perangkat yang sesuai (GPU atau CPU) sesuai dengan `device`"
   ]
  },
  {
   "cell_type": "code",
   "execution_count": 29,
   "metadata": {
    "id": "5PvCQ8ba2kp_"
   },
   "outputs": [],
   "source": [
    "# Optimizer dan Loss\n",
    "\n",
    "# Optimizer menggunakan Adam untuk mengoptimalkan parameter model\n",
    "optimizer = torch.optim.Adam(model.parameters(), lr=1e-4)  # Inisialisasi optimizer Adam\n",
    "\n",
    "# Fungsi loss untuk klasifikasi multi-kelas\n",
    "criterion = nn.CrossEntropyLoss()  # Fungsi loss yang digunakan adalah CrossEntropyLoss"
   ]
  },
  {
   "cell_type": "code",
   "execution_count": 30,
   "metadata": {
    "id": "QvWgsmWY2mjj"
   },
   "outputs": [],
   "source": [
    "# Training Function\n",
    "def train_epoch(model, data_loader, optimizer, criterion):\n",
    "    # Set model ke mode training\n",
    "    model.train()  # Mengaktifkan mode training pada model, yang mengaktifkan fitur-fitur seperti dropout dan batch normalization.\n",
    "\n",
    "    # Inisialisasi total loss untuk menghitung rata-rata loss pada epoch ini\n",
    "    total_loss = 0  # Variabel untuk menyimpan total loss yang akan dihitung rata-ratanya\n",
    "\n",
    "    # Iterasi untuk setiap batch data dalam DataLoader\n",
    "    for batch in data_loader:\n",
    "        # Mengambil input dan label dari batch\n",
    "        input_ids = batch[\"input_ids\"].to(DEVICE)  # Memindahkan data input ke device (GPU atau CPU)\n",
    "        labels = batch[\"label\"].to(DEVICE)  # Memindahkan label ke device\n",
    "\n",
    "        # Mengatur gradien ke nol sebelum menghitung gradien baru\n",
    "        optimizer.zero_grad()  # Menyeting gradien menjadi nol, ini penting agar gradien tidak bertambah (accumulate) dari iterasi sebelumnya\n",
    "\n",
    "        # Melakukan prediksi dengan model\n",
    "        outputs = model(input_ids)  # Menghitung output model berdasarkan input_ids\n",
    "\n",
    "        # Menghitung loss antara output prediksi dan label yang benar\n",
    "        loss = criterion(outputs, labels)  # Menghitung loss antara hasil prediksi dan label yang benar\n",
    "\n",
    "        # Melakukan backpropagation untuk menghitung gradien\n",
    "        loss.backward()  # Menghitung gradien untuk semua parameter model berdasarkan loss yang dihitung\n",
    "\n",
    "        # Mengupdate parameter model menggunakan optimizer\n",
    "        optimizer.step()  # Mengupdate parameter model menggunakan gradien yang dihitung dengan algoritma optimasi (misalnya Adam)\n",
    "\n",
    "        # Menambahkan loss saat ini ke total_loss\n",
    "        total_loss += loss.item()  # Menambahkan nilai loss ke total_loss untuk menghitung rata-rata\n",
    "\n",
    "    # Mengembalikan rata-rata loss untuk seluruh epoch\n",
    "    return total_loss / len(data_loader)  # Mengembalikan total loss dibagi dengan jumlah batch untuk mendapatkan rata-rata loss"
   ]
  },
  {
   "cell_type": "code",
   "execution_count": 31,
   "metadata": {
    "id": "zj-YKQRf2ps4"
   },
   "outputs": [],
   "source": [
    "# Evaluation function\n",
    "def evaluate(model, data_loader):\n",
    "    # Set model ke mode evaluasi (non-training)\n",
    "    model.eval()  # Mengaktifkan mode evaluasi pada model, yang mematikan fitur-fitur seperti dropout dan batch normalization.\n",
    "\n",
    "    # Inisialisasi list untuk menyimpan prediksi dan label sebenarnya\n",
    "    predictions, true_labels = [], []  # Untuk menyimpan hasil prediksi dan label sebenarnya sepanjang evaluasi\n",
    "\n",
    "    # Nonaktifkan penghitungan gradien selama evaluasi (hemat memori)\n",
    "    with torch.no_grad():  # Membungkus kode dalam konteks ini untuk menonaktifkan perhitungan gradien yang tidak diperlukan saat evaluasi\n",
    "        # Iterasi setiap batch dalam DataLoader\n",
    "        for batch in data_loader:\n",
    "            # Mengambil input dan label dari batch\n",
    "            input_ids = batch[\"input_ids\"].to(device)  # Memindahkan data input ke device (GPU atau CPU)\n",
    "            labels = batch[\"label\"].to(device)  # Memindahkan label ke device\n",
    "\n",
    "            # Melakukan inferensi dengan model (mendapatkan output prediksi)\n",
    "            outputs = model(input_ids)  # Memasukkan input_ids ke dalam model untuk mendapatkan prediksi\n",
    "\n",
    "            # Mengambil kelas dengan probabilitas tertinggi (prediksi)\n",
    "            preds = torch.argmax(outputs, dim=1)  # Mengambil indeks kelas dengan probabilitas tertinggi di dimensi output\n",
    "\n",
    "            # Menyimpan hasil prediksi dan label dalam list\n",
    "            predictions.extend(preds.cpu().numpy())  # Menyimpan prediksi ke list setelah memindahkannya ke CPU\n",
    "            true_labels.extend(labels.cpu().numpy())  # Menyimpan label sebenarnya ke list setelah memindahkannya ke CPU\n",
    "\n",
    "    # Mengembalikan akurasi berdasarkan hasil prediksi dan label sebenarnya\n",
    "    return accuracy_score(true_labels, predictions)  # Menghitung dan mengembalikan akurasi antara label sebenarnya dan prediksi"
   ]
  },
  {
   "cell_type": "code",
   "execution_count": 34,
   "metadata": {
    "colab": {
     "base_uri": "https://localhost:8080/",
     "height": 559
    },
    "id": "bM8MI5U-4Euu",
    "outputId": "dedea254-7c3b-4412-9703-d3b3ede76d14"
   },
   "outputs": [
    {
     "name": "stdout",
     "output_type": "stream",
     "text": [
      "Epoch 1/5: Train Loss: 0.3173, Test Accuracy: 0.8893, Time: 36.08s\n",
      "Epoch 2/5: Train Loss: 0.3113, Test Accuracy: 0.8930, Time: 34.37s\n",
      "Epoch 3/5: Train Loss: 0.3052, Test Accuracy: 0.8721, Time: 40.14s\n",
      "Epoch 4/5: Train Loss: 0.2985, Test Accuracy: 0.8911, Time: 34.01s\n",
      "Epoch 5/5: Train Loss: 0.2933, Test Accuracy: 0.8958, Time: 35.58s\n"
     ]
    },
    {
     "data": {
      "image/png": "[encoded data removed]",
      "text/plain": [
       "<Figure size 640x480 with 1 Axes>"
      ]
     },
     "metadata": {},
     "output_type": "display_data"
    }
   ],
   "source": [
    "import seaborn as sns\n",
    "import matplotlib.pyplot as plt\n",
    "\n",
    "# Initialize list to track results\n",
    "transformer_results = []  # Menyiapkan list kosong untuk menyimpan hasil pelatihan tiap epoch (loss, akurasi, waktu)\n",
    "\n",
    "epochs = 5  # Menentukan jumlah epoch pelatihan\n",
    "for epoch in range(epochs):  # Melakukan iterasi untuk setiap epoch\n",
    "    start_time = time.time()  # Menyimpan waktu mulai pelatihan epoch ini\n",
    "\n",
    "    # Melatih model pada epoch ini dan mendapatkan nilai loss\n",
    "    train_loss = train_epoch(model, train_loader, optimizer, criterion)  # Melatih model dan menghitung train loss\n",
    "\n",
    "    # Menghitung akurasi pada data validasi (test set)\n",
    "    acc = evaluate(model, test_loader)  # Menghitung akurasi model pada test set\n",
    "\n",
    "    end_time = time.time()  # Menyimpan waktu selesai pelatihan epoch ini\n",
    "\n",
    "    epoch_time = end_time - start_time  # Menghitung total waktu yang digunakan untuk satu epoch\n",
    "    transformer_results.append({  # Menyimpan hasil pelatihan untuk epoch ini\n",
    "        \"epoch\": epoch + 1,  # Nomor epoch (dimulai dari 1)\n",
    "        \"train_loss\": train_loss,  # Nilai train loss untuk epoch ini\n",
    "        \"val_accuracy\": acc,  # Akurasi pada data validasi untuk epoch ini\n",
    "        \"epoch_time\": epoch_time  # Waktu yang digunakan untuk satu epoch\n",
    "    })\n",
    "\n",
    "    # Mencetak hasil epoch ini ke layar\n",
    "    print(f\"Epoch {epoch+1}/{epochs}: Train Loss: {train_loss:.4f}, Test Accuracy: {acc:.4f}, Time: {epoch_time:.2f}s\")\n",
    "\n",
    "# Convert to DataFrame for easier plotting\n",
    "transformer_results_df = pd.DataFrame(transformer_results)  # Mengonversi hasil pelatihan ke dalam DataFrame untuk kemudahan analisis dan plotting\n",
    "\n",
    "# Plotting\n",
    "sns.lineplot(x='epoch', y='val_accuracy', data=transformer_results_df, label='Transformer')  # Membuat grafik garis akurasi validasi (val_accuracy) vs epoch\n",
    "plt.title(\"Epoch vs Validation Accuracy\")  # Menambahkan judul pada grafik\n",
    "plt.xlabel(\"Epoch\")  # Menambahkan label untuk sumbu X\n",
    "plt.ylabel(\"Validation Accuracy\")  # Menambahkan label untuk sumbu Y\n",
    "plt.show()  # Menampilkan grafik"
   ]
  },
  {
   "cell_type": "code",
   "execution_count": 47,
   "metadata": {
    "colab": {
     "base_uri": "https://localhost:8080/"
    },
    "id": "yp3SXHWc_Vec",
    "outputId": "1d269f84-b194-442d-db0b-02442c764d7b"
   },
   "outputs": [
    {
     "name": "stdout",
     "output_type": "stream",
     "text": [
      "Memori yang digunakan GPU: 181.19 MB\n",
      "Memori yang tersedia GPU: 255.85 MB\n"
     ]
    }
   ],
   "source": [
    "# Mengecek apakah GPU tersedia atau tidak\n",
    "if torch.cuda.is_available():\n",
    "    # Jika GPU tersedia, mencetak jumlah memori yang digunakan oleh model pada GPU\n",
    "    print(f\"Memori yang digunakan GPU: {torch.cuda.memory_allocated() / 1e6:.2f} MB\")\n",
    "    # Fungsi torch.cuda.memory_allocated() memberikan jumlah memori yang dialokasikan oleh GPU dalam byte.\n",
    "    # Pembagian dengan 1e6 untuk mengkonversi byte ke megabyte (MB), dan format .2f untuk menampilkan 2 angka desimal.\n",
    "\n",
    "    # Mencetak jumlah memori yang masih tersedia di GPU untuk alokasi lebih lanjut\n",
    "    print(f\"Memori yang tersedia GPU: {torch.cuda.memory_reserved() / 1e6:.2f} MB\")\n",
    "    # Fungsi torch.cuda.memory_reserved() memberikan jumlah memori yang \"dipesan\" (reserved) di GPU.\n",
    "    # Ini bukan memori yang sedang digunakan oleh model, tetapi total memori yang tersedia untuk model agar bisa digunakan nanti.\n",
    "    # Pembagian dengan 1e6 untuk mengkonversi byte ke megabyte (MB) dan format .2f untuk menampilkan 2 angka desimal."
   ]
  },
  {
   "cell_type": "code",
   "execution_count": 48,
   "metadata": {
    "colab": {
     "base_uri": "https://localhost:8080/"
    },
    "id": "Xa0RqV9e_mqt",
    "outputId": "f611a7f9-2b1c-4cc3-823b-26d5b00328b2"
   },
   "outputs": [
    {
     "name": "stdout",
     "output_type": "stream",
     "text": [
      "Rata-rata waktu per batch (Train): 0.0073 detik\n",
      "Rata-rata waktu per batch (Test): 0.0017 detik\n"
     ]
    }
   ],
   "source": [
    "import time  # Mengimpor modul time untuk mengukur waktu\n",
    "\n",
    "# Fungsi untuk menghitung waktu pemrosesan batch selama pelatihan atau pengujian\n",
    "def time_batch_processing(data_loader, model, mode=\"train\"):\n",
    "    total_time = 0  # Menyimpan total waktu yang dibutuhkan untuk semua batch\n",
    "    for batch in data_loader:  # Melakukan iterasi pada setiap batch dalam data_loader\n",
    "        start = time.time()  # Mencatat waktu mulai untuk batch ini\n",
    "\n",
    "        if mode == \"train\":  # Jika mode adalah 'train' (pelatihan)\n",
    "            input_ids = batch[\"input_ids\"].to(device)  # Memindahkan data input_ids ke device (CPU/GPU)\n",
    "            labels = batch[\"label\"].to(device)  # Memindahkan data label ke device\n",
    "            optimizer.zero_grad()  # Mengatur gradien menjadi nol sebelum backward pass\n",
    "            outputs = model(input_ids)  # Melakukan prediksi dengan model\n",
    "            loss = criterion(outputs, labels)  # Menghitung loss berdasarkan output dan label\n",
    "            loss.backward()  # Melakukan backward pass untuk menghitung gradien\n",
    "            optimizer.step()  # Mengupdate bobot model berdasarkan gradien\n",
    "        elif mode == \"test\":  # Jika mode adalah 'test' (pengujian)\n",
    "            input_ids = batch[\"input_ids\"].to(device)  # Memindahkan data input_ids ke device\n",
    "            with torch.no_grad():  # Menonaktifkan perhitungan gradien selama pengujian untuk efisiensi\n",
    "                _ = model(input_ids)  # Melakukan prediksi dengan model, tetapi tidak menyimpan output\n",
    "\n",
    "        end = time.time()  # Mencatat waktu selesai untuk batch ini\n",
    "        total_time += end - start  # Menghitung waktu yang dibutuhkan untuk batch ini dan menambahkannya ke total_time\n",
    "\n",
    "    # Mengembalikan rata-rata waktu per batch (total waktu dibagi dengan jumlah batch)\n",
    "    return total_time / len(data_loader)\n",
    "\n",
    "# Mengukur waktu rata-rata per batch selama pelatihan\n",
    "train_time_per_batch = time_batch_processing(train_loader, model, mode=\"train\")\n",
    "\n",
    "# Mengukur waktu rata-rata per batch selama pengujian\n",
    "test_time_per_batch = time_batch_processing(test_loader, model, mode=\"test\")\n",
    "\n",
    "# Mencetak hasil waktu rata-rata per batch untuk pelatihan dan pengujian\n",
    "print(f\"Rata-rata waktu per batch (Train): {train_time_per_batch:.4f} detik\")\n",
    "print(f\"Rata-rata waktu per batch (Test): {test_time_per_batch:.4f} detik\")"
   ]
  },
  {
   "cell_type": "code",
   "execution_count": 52,
   "metadata": {
    "colab": {
     "base_uri": "https://localhost:8080/",
     "height": 755
    },
    "id": "45GJEoL2AB11",
    "outputId": "419bb27e-b8ad-4a50-8c18-c7d105114abc"
   },
   "outputs": [
    {
     "data": {
      "image/png": "[encoded data removed]",
      "text/plain": [
       "<Figure size 800x600 with 2 Axes>"
      ]
     },
     "metadata": {},
     "output_type": "display_data"
    },
    {
     "name": "stdout",
     "output_type": "stream",
     "text": [
      "              precision    recall  f1-score   support\n",
      "\n",
      "           1       0.90      0.90      0.90      1900\n",
      "           2       0.95      0.98      0.96      1900\n",
      "           3       0.84      0.87      0.85      1900\n",
      "           4       0.89      0.83      0.86      1900\n",
      "\n",
      "    accuracy                           0.90      7600\n",
      "   macro avg       0.90      0.90      0.90      7600\n",
      "weighted avg       0.90      0.90      0.90      7600\n",
      "\n"
     ]
    }
   ],
   "source": [
    "from sklearn.metrics import confusion_matrix, classification_report  # Mengimpor fungsi untuk menghitung confusion matrix dan classification report\n",
    "\n",
    "true_labels, pred_labels = [], []  # Menyiapkan dua list kosong untuk menyimpan label yang sebenarnya dan prediksi model\n",
    "\n",
    "# Mengumpulkan label sebenarnya dan prediksi\n",
    "for batch in test_loader:  # Melakukan iterasi pada setiap batch dalam test_loader\n",
    "    input_ids = batch[\"input_ids\"].to(DEVICE)  # Memindahkan data input_ids ke device (CPU/GPU)\n",
    "    labels = batch[\"label\"].to(DEVICE)  # Memindahkan data label ke device\n",
    "\n",
    "    with torch.no_grad():  # Menonaktifkan perhitungan gradien karena kita hanya ingin prediksi\n",
    "        outputs = model(input_ids)  # Menggunakan model untuk menghasilkan prediksi dari input_ids\n",
    "        preds = torch.argmax(outputs, dim=1)  # Mengambil label kelas dengan probabilitas tertinggi untuk setiap prediksi\n",
    "\n",
    "    true_labels.extend(labels.cpu().numpy())  # Menambahkan label sebenarnya ke list true_labels (menggunakan .cpu().numpy() untuk mengonversi ke numpy array)\n",
    "    pred_labels.extend(preds.cpu().numpy())  # Menambahkan label prediksi ke list pred_labels (menggunakan .cpu().numpy() untuk mengonversi ke numpy array)\n",
    "\n",
    "# Confusion matrix\n",
    "conf_matrix = confusion_matrix(true_labels, pred_labels)  # Menghitung confusion matrix antara true_labels dan pred_labels\n",
    "\n",
    "plt.figure(figsize=(8, 6))  # Menyiapkan ukuran gambar untuk plot\n",
    "sns.heatmap(conf_matrix, annot=True, fmt=\"d\", cmap=\"Blues\", xticklabels=label_encoder.classes_, yticklabels=label_encoder.classes_)  # Membuat heatmap untuk confusion matrix\n",
    "plt.xlabel(\"Predicted\")  # Menambahkan label untuk sumbu X\n",
    "plt.ylabel(\"Actual\")  # Menambahkan label untuk sumbu Y\n",
    "plt.title(\"Confusion Matrix\")  # Menambahkan judul pada plot\n",
    "plt.show()  # Menampilkan plot confusion matrix\n",
    "\n",
    "# Classification report\n",
    "print(classification_report(true_labels, pred_labels, target_names=[str(c) for c in label_encoder.classes_]))  # Mencetak classification report untuk evaluasi model"
   ]
  },
  {
   "cell_type": "code",
   "execution_count": 35,
   "metadata": {
    "colab": {
     "base_uri": "https://localhost:8080/"
    },
    "id": "MSddfRig273C",
    "outputId": "d09778bc-fc14-49a3-9b1e-f21bb4153682"
   },
   "outputs": [
    {
     "name": "stdout",
     "output_type": "stream",
     "text": [
      "Model saved successfully!\n"
     ]
    }
   ],
   "source": [
    "# Save model\n",
    "torch.save(model.state_dict(), \"transformer_with_glove.pth\")\n",
    "print(\"Model saved successfully!\")"
   ]
  }
 ],
 "metadata": {
  "accelerator": "GPU",
  "colab": {
   "gpuType": "T4",
   "provenance": []
  },
  "kernelspec": {
   "display_name": "Python 3 (ipykernel)",
   "language": "python",
   "name": "python3"
  },
  "language_info": {
   "codemirror_mode": {
    "name": "ipython",
    "version": 3
   },
   "file_extension": ".py",
   "mimetype": "text/x-python",
   "name": "python",
   "nbconvert_exporter": "python",
   "pygments_lexer": "ipython3",
   "version": "3.9.7"
  }
 },
 "nbformat": 4,
 "nbformat_minor": 4
}
