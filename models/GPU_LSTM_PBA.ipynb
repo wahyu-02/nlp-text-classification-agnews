{
 "cells": [
  {
   "cell_type": "markdown",
   "metadata": {
    "id": "ySx8Hc1zt13-"
   },
   "source": [
    "## **LSTM**"
   ]
  },
  {
   "cell_type": "code",
   "execution_count": 96,
   "metadata": {
    "id": "agKTgP_E2vBF"
   },
   "outputs": [],
   "source": [
    "#!pip install torchinfo"
   ]
  },
  {
   "cell_type": "code",
   "execution_count": 97,
   "metadata": {
    "id": "L-cAp10Qt1qZ"
   },
   "outputs": [],
   "source": [
    "import pandas as pd\n",
    "import numpy as np\n",
    "import torch\n",
    "import time\n",
    "from torch.utils.data import Dataset, DataLoader\n",
    "from torch import nn\n",
    "from sklearn.preprocessing import LabelEncoder\n",
    "from sklearn.metrics import accuracy_score, precision_recall_fscore_support\n",
    "from torchinfo import summary"
   ]
  },
  {
   "cell_type": "code",
   "execution_count": 98,
   "metadata": {
    "colab": {
     "base_uri": "https://localhost:8080/"
    },
    "id": "ANF5ZxjIt5rt",
    "outputId": "97180a68-06ae-49f0-9fbd-51433283bff9"
   },
   "outputs": [
    {
     "name": "stdout",
     "output_type": "stream",
     "text": [
      "Memakai perangkat: cuda\n"
     ]
    }
   ],
   "source": [
    "DEVICE = torch.device(\"cuda\" if torch.cuda.is_available() else \"cpu\")\n",
    "print(f\"Memakai perangkat: {DEVICE}\")"
   ]
  },
  {
   "cell_type": "code",
   "execution_count": 99,
   "metadata": {
    "id": "-0aTuJiY8Gt1"
   },
   "outputs": [],
   "source": [
    "# Path Dataset dan GloVe\n",
    "TRAIN_PATH = \"train.csv\"\n",
    "TEST_PATH = \"test.csv\"\n",
    "GLOVE_PATH = \"glove.6B.100d.txt\"\n",
    "EMBEDDING_DIM = 100"
   ]
  },
  {
   "cell_type": "code",
   "execution_count": 100,
   "metadata": {
    "id": "cOd7KbzVt7J4"
   },
   "outputs": [],
   "source": [
    "# Load Dataset\n",
    "train_df = pd.read_csv(TRAIN_PATH, header=None, names=[\"class\", \"title\", \"description\"])\n",
    "test_df = pd.read_csv(TEST_PATH, header=None, names=[\"class\", \"title\", \"description\"])\n",
    "\n",
    "# Gabungkan title dan description\n",
    "train_df[\"text\"] = train_df[\"title\"].fillna(\"\") + \". \" + train_df[\"description\"].fillna(\"\")\n",
    "test_df[\"text\"] = test_df[\"title\"].fillna(\"\") + \". \" + test_df[\"description\"].fillna(\"\")\n",
    "\n",
    "# Encode label\n",
    "label_encoder = LabelEncoder()\n",
    "train_df[\"label\"] = label_encoder.fit_transform(train_df[\"class\"])\n",
    "test_df[\"label\"] = label_encoder.transform(test_df[\"class\"])"
   ]
  },
  {
   "cell_type": "code",
   "execution_count": 101,
   "metadata": {
    "colab": {
     "base_uri": "https://localhost:8080/"
    },
    "id": "HCkt-R1UuBVS",
    "outputId": "d5d9fbef-c3aa-4879-eaea-16a9520e1940"
   },
   "outputs": [
    {
     "name": "stdout",
     "output_type": "stream",
     "text": [
      "Memuat GloVe embeddings...\n",
      "Skipping word 241.5 due to dimension mismatch: expected 100, got 76\n",
      "GloVe embeddings berhasil dimuat!\n",
      "Ukuran Embedding Matrix: torch.Size([254745, 100])\n"
     ]
    }
   ],
   "source": [
    "# Load GloVe Pre-trained Embeddings\n",
    "def load_glove_embeddings(glove_path, embedding_dim):\n",
    "    word_to_index = {\"<PAD>\": 0, \"<UNK>\": 1}\n",
    "    embedding_matrix = [np.zeros(embedding_dim), np.random.uniform(-0.25, 0.25, embedding_dim)]\n",
    "\n",
    "    print(\"Memuat GloVe embeddings...\")\n",
    "    with open(glove_path, \"r\", encoding=\"utf-8\") as f:\n",
    "        for line in f:\n",
    "            parts = line.split()\n",
    "            word = parts[0]\n",
    "            vector = np.array(parts[1:], dtype=np.float32)\n",
    "\n",
    "            # Validasi dimensi embedding\n",
    "            if vector.shape[0] != embedding_dim:\n",
    "                print(f\"Skipping word {word} due to dimension mismatch: expected {embedding_dim}, got {vector.shape[0]}\")\n",
    "                continue\n",
    "\n",
    "            word_to_index[word] = len(word_to_index)\n",
    "            embedding_matrix.append(vector)\n",
    "\n",
    "    embedding_matrix = np.array(embedding_matrix)\n",
    "    print(\"GloVe embeddings berhasil dimuat!\")\n",
    "    return word_to_index, torch.tensor(embedding_matrix, dtype=torch.float)\n",
    "\n",
    "word_to_index, embedding_matrix = load_glove_embeddings(GLOVE_PATH, EMBEDDING_DIM)\n",
    "print(\"Ukuran Embedding Matrix:\", embedding_matrix.shape)"
   ]
  },
  {
   "cell_type": "code",
   "execution_count": 102,
   "metadata": {
    "id": "1AMS4zUFuFTH"
   },
   "outputs": [],
   "source": [
    "# Dataset\n",
    "class TextDataset(Dataset):\n",
    "    def __init__(self, texts, labels, word_to_index, max_length):\n",
    "        self.texts = texts\n",
    "        self.labels = labels\n",
    "        self.word_to_index = word_to_index\n",
    "        self.max_length = max_length\n",
    "\n",
    "    def __len__(self):\n",
    "        return len(self.texts)\n",
    "\n",
    "    def __getitem__(self, idx):\n",
    "        text = self.texts[idx]\n",
    "        label = self.labels[idx]\n",
    "\n",
    "        # Tokenisasi GloVe\n",
    "        tokens = text.lower().split()\n",
    "        token_ids = [self.word_to_index.get(token, 1) for token in tokens]  # 1 = \"<UNK>\"\n",
    "        if len(token_ids) < self.max_length:\n",
    "            token_ids += [0] * (self.max_length - len(token_ids))  # 0 = \"<PAD>\"\n",
    "        else:\n",
    "            token_ids = token_ids[:self.max_length]\n",
    "\n",
    "        return {\n",
    "            \"input_ids\": torch.tensor(token_ids, dtype=torch.long),\n",
    "            \"label\": torch.tensor(label, dtype=torch.long)\n",
    "        }\n",
    "\n",
    "# Dataset dan DataLoader\n",
    "MAX_LEN = 100\n",
    "train_dataset = TextDataset(train_df[\"text\"].values, train_df[\"label\"].values, word_to_index, MAX_LEN)\n",
    "test_dataset = TextDataset(test_df[\"text\"].values, test_df[\"label\"].values, word_to_index, MAX_LEN)\n",
    "\n",
    "train_loader = DataLoader(train_dataset, batch_size=32, shuffle=True)\n",
    "test_loader = DataLoader(test_dataset, batch_size=32)"
   ]
  },
  {
   "cell_type": "code",
   "execution_count": 103,
   "metadata": {
    "id": "aZIoqDZ5uIBG"
   },
   "outputs": [],
   "source": [
    "# Model\n",
    "class LSTMClassifier(nn.Module):\n",
    "    def __init__(self, embedding_matrix, hidden_size, num_classes, dropout=0.5):\n",
    "        super(LSTMClassifier, self).__init__()\n",
    "        self.embedding = nn.Embedding.from_pretrained(embedding_matrix, freeze=True)\n",
    "        self.lstm = nn.LSTM(EMBEDDING_DIM, hidden_size, batch_first=True)\n",
    "        self.fc = nn.Linear(hidden_size, num_classes)\n",
    "        self.dropout = nn.Dropout(dropout)\n",
    "\n",
    "    def forward(self, input_ids):\n",
    "        embedded = self.embedding(input_ids)\n",
    "        lstm_out, (hn, cn) = self.lstm(embedded)\n",
    "        last_hidden_state = hn[-1]\n",
    "        output = self.dropout(last_hidden_state)\n",
    "        return self.fc(output)"
   ]
  },
  {
   "cell_type": "code",
   "execution_count": 104,
   "metadata": {
    "id": "gW6jBwAWuJwZ"
   },
   "outputs": [],
   "source": [
    "# Inisialisasi Model\n",
    "model = LSTMClassifier(\n",
    "    embedding_matrix=embedding_matrix,\n",
    "    hidden_size=128,\n",
    "    num_classes=len(label_encoder.classes_)\n",
    ").to(DEVICE)\n",
    "\n",
    "# Optimizer dan Loss\n",
    "optimizer = torch.optim.Adam(model.parameters(), lr=1e-4)\n",
    "loss_criterion = nn.CrossEntropyLoss()"
   ]
  },
  {
   "cell_type": "code",
   "execution_count": 105,
   "metadata": {
    "id": "X__PbP_suRyK"
   },
   "outputs": [],
   "source": [
    "# Fungsi Training\n",
    "def train_epoch(model, data_loader, optimizer, loss_criterion):\n",
    "    model.train()\n",
    "    total_loss = 0\n",
    "    for batch in data_loader:\n",
    "        input_ids = batch[\"input_ids\"].to(DEVICE)\n",
    "        labels = batch[\"label\"].to(DEVICE)\n",
    "\n",
    "        optimizer.zero_grad()\n",
    "        outputs = model(input_ids)\n",
    "        loss = loss_criterion(outputs, labels)\n",
    "        loss.backward()\n",
    "        optimizer.step()\n",
    "        total_loss += loss.item()\n",
    "    return total_loss / len(data_loader)"
   ]
  },
  {
   "cell_type": "code",
   "execution_count": 106,
   "metadata": {
    "colab": {
     "base_uri": "https://localhost:8080/"
    },
    "id": "4EpTwvrluM1B",
    "outputId": "91dc280b-d7f0-4efe-f4e4-8bd144b31e6d"
   },
   "outputs": [
    {
     "data": {
      "text/plain": [
       "=================================================================\n",
       "Layer (type:depth-idx)                   Param #\n",
       "=================================================================\n",
       "LSTMClassifier                           --\n",
       "├─Embedding: 1-1                         (25,474,500)\n",
       "├─LSTM: 1-2                              117,760\n",
       "├─Linear: 1-3                            516\n",
       "├─Dropout: 1-4                           --\n",
       "=================================================================\n",
       "Total params: 25,592,776\n",
       "Trainable params: 118,276\n",
       "Non-trainable params: 25,474,500\n",
       "================================================================="
      ]
     },
     "execution_count": 106,
     "metadata": {},
     "output_type": "execute_result"
    }
   ],
   "source": [
    "# Lihat summary model\n",
    "summary(model)"
   ]
  },
  {
   "cell_type": "code",
   "execution_count": 107,
   "metadata": {
    "id": "RP8rHhSYuTlQ"
   },
   "outputs": [],
   "source": [
    "# Evaluasi\n",
    "def evaluate(model, data_loader):\n",
    "    model.eval()\n",
    "    predictions, true_labels = [], []\n",
    "    with torch.no_grad():\n",
    "        for batch in data_loader:\n",
    "            input_ids = batch[\"input_ids\"].to(DEVICE)\n",
    "            labels = batch[\"label\"].to(DEVICE)\n",
    "\n",
    "            outputs = model(input_ids)\n",
    "            preds = torch.argmax(outputs, dim=1)\n",
    "            predictions.extend(preds.cpu().numpy())\n",
    "            true_labels.extend(labels.cpu().numpy())\n",
    "    return accuracy_score(true_labels, predictions)"
   ]
  },
  {
   "cell_type": "code",
   "execution_count": 108,
   "metadata": {
    "colab": {
     "base_uri": "https://localhost:8080/"
    },
    "id": "u_mNESbj3AD1",
    "outputId": "7328a96a-1351-498a-d76c-36863c459dbb"
   },
   "outputs": [
    {
     "name": "stdout",
     "output_type": "stream",
     "text": [
      "Epoch 1: Train Loss: 1.3848, Test Accuracy: 0.2676, Durasi: 14.48 detik\n",
      "Epoch 2: Train Loss: 0.8686, Test Accuracy: 0.6611, Durasi: 14.27 detik\n",
      "Epoch 3: Train Loss: 0.5928, Test Accuracy: 0.8346, Durasi: 14.23 detik\n",
      "Epoch 4: Train Loss: 0.5169, Test Accuracy: 0.8587, Durasi: 14.18 detik\n",
      "Epoch 5: Train Loss: 0.6452, Test Accuracy: 0.8466, Durasi: 14.34 detik\n",
      "Epoch 6: Train Loss: 0.5829, Test Accuracy: 0.8622, Durasi: 14.25 detik\n",
      "Epoch 7: Train Loss: 0.5284, Test Accuracy: 0.8538, Durasi: 14.42 detik\n",
      "Epoch 8: Train Loss: 0.4731, Test Accuracy: 0.8692, Durasi: 14.34 detik\n",
      "Epoch 9: Train Loss: 0.4461, Test Accuracy: 0.8599, Durasi: 14.45 detik\n",
      "Epoch 10: Train Loss: 0.4550, Test Accuracy: 0.8417, Durasi: 14.33 detik\n"
     ]
    }
   ],
   "source": [
    "# Train Model\n",
    "EPOCHS = 10\n",
    "\n",
    "for epoch in range(EPOCHS):\n",
    "    start_time = time.time()\n",
    "    train_loss = train_epoch(model, train_loader, optimizer, loss_criterion)\n",
    "    acc = evaluate(model, test_loader)\n",
    "    end_time = time.time()\n",
    "    epoch_duration = end_time - start_time\n",
    "    print(f\"Epoch {epoch+1}: Train Loss: {train_loss:.4f}, Test Accuracy: {acc:.4f}, Durasi: {epoch_duration:.2f} detik\")"
   ]
  },
  {
   "cell_type": "code",
   "execution_count": 113,
   "metadata": {
    "colab": {
     "base_uri": "https://localhost:8080/"
    },
    "id": "gowygDyDMq1P",
    "outputId": "02dc621c-9c15-45e0-bf59-c14591224d43"
   },
   "outputs": [
    {
     "name": "stdout",
     "output_type": "stream",
     "text": [
      "Memori yang digunakan GPU: 647.03 MB\n",
      "Memori yang tersedia GPU: 796.92 MB\n"
     ]
    }
   ],
   "source": [
    "if torch.cuda.is_available():\n",
    "    print(f\"Memori yang digunakan GPU: {torch.cuda.memory_allocated() / 1e6:.2f} MB\")\n",
    "    print(f\"Memori yang tersedia GPU: {torch.cuda.memory_reserved() / 1e6:.2f} MB\")\n"
   ]
  },
  {
   "cell_type": "code",
   "execution_count": 112,
   "metadata": {
    "colab": {
     "base_uri": "https://localhost:8080/",
     "height": 755
    },
    "id": "ICve4R1u8_EA",
    "outputId": "aa6de3d2-4c64-41ba-fc22-0a2d20487f89"
   },
   "outputs": [
    {
     "data": {
      "image/png": "[encoded data removed]",
      "text/plain": [
       "<Figure size 800x600 with 2 Axes>"
      ]
     },
     "metadata": {},
     "output_type": "display_data"
    },
    {
     "name": "stdout",
     "output_type": "stream",
     "text": [
      "              precision    recall  f1-score   support\n",
      "\n",
      "           1       0.91      0.85      0.88      1900\n",
      "           2       0.81      0.99      0.89      1900\n",
      "           3       0.89      0.65      0.75      1900\n",
      "           4       0.79      0.88      0.83      1900\n",
      "\n",
      "    accuracy                           0.84      7600\n",
      "   macro avg       0.85      0.84      0.84      7600\n",
      "weighted avg       0.85      0.84      0.84      7600\n",
      "\n"
     ]
    }
   ],
   "source": [
    "import matplotlib.pyplot as plt\n",
    "from sklearn.metrics import confusion_matrix, classification_report\n",
    "import seaborn as sns\n",
    "\n",
    "true_labels, pred_labels = [], []\n",
    "\n",
    "# Mengumpulkan label sebenarnya dan prediksi\n",
    "for batch in test_loader:\n",
    "    input_ids = batch[\"input_ids\"].to(DEVICE)\n",
    "    labels = batch[\"label\"].to(DEVICE)\n",
    "    with torch.no_grad():\n",
    "        outputs = model(input_ids)\n",
    "        preds = torch.argmax(outputs, dim=1)\n",
    "    true_labels.extend(labels.cpu().numpy())\n",
    "    pred_labels.extend(preds.cpu().numpy())\n",
    "\n",
    "# Confusion matrix\n",
    "conf_matrix = confusion_matrix(true_labels, pred_labels)\n",
    "plt.figure(figsize=(8, 6))\n",
    "sns.heatmap(conf_matrix, annot=True, fmt=\"d\", cmap=\"Blues\", xticklabels=label_encoder.classes_, yticklabels=label_encoder.classes_)\n",
    "plt.xlabel(\"Predicted\")\n",
    "plt.ylabel(\"Actual\")\n",
    "plt.title(\"Confusion Matrix\")\n",
    "plt.show()\n",
    "\n",
    "# Classification report\n",
    "print(classification_report(true_labels, pred_labels, target_names=[str(c) for c in label_encoder.classes_]))"
   ]
  },
  {
   "cell_type": "code",
   "execution_count": 110,
   "metadata": {
    "colab": {
     "base_uri": "https://localhost:8080/"
    },
    "id": "U6zWT_t1uWw4",
    "outputId": "4c02c4ae-eb86-4ef1-baa4-409ae7ea00fe"
   },
   "outputs": [
    {
     "name": "stdout",
     "output_type": "stream",
     "text": [
      "Model berhasil disimpan\n"
     ]
    }
   ],
   "source": [
    "# Simpan Model\n",
    "torch.save(model.state_dict(), \"lstm_classifier.pth\")\n",
    "print(\"Model berhasil disimpan\")"
   ]
  }
 ],
 "metadata": {
  "accelerator": "GPU",
  "colab": {
   "collapsed_sections": [
    "3djC0D5B050v"
   ],
   "gpuType": "T4",
   "provenance": []
  },
  "kernelspec": {
   "display_name": "Python 3 (ipykernel)",
   "language": "python",
   "name": "python3"
  },
  "language_info": {
   "codemirror_mode": {
    "name": "ipython",
    "version": 3
   },
   "file_extension": ".py",
   "mimetype": "text/x-python",
   "name": "python",
   "nbconvert_exporter": "python",
   "pygments_lexer": "ipython3",
   "version": "3.9.7"
  }
 },
 "nbformat": 4,
 "nbformat_minor": 4
}
